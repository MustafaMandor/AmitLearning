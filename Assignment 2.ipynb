{
 "cells": [
  {
   "cell_type": "markdown",
   "metadata": {
    "tags": []
   },
   "source": [
    "# Assignment 2\n",
    "# Mustafa Mandor\n",
    "# \"Very Nice Excercise\" -Midopower24hour"
   ]
  },
  {
   "cell_type": "markdown",
   "metadata": {},
   "source": [
    "_____\n",
    "**Use <code>for</code>, .split(), and <code>if</code> to create a Statement that will print out words that start with 's':**"
   ]
  },
  {
   "cell_type": "code",
   "execution_count": null,
   "metadata": {},
   "outputs": [],
   "source": [
    "st = 'Print only the words that start with s in this sentence'"
   ]
  },
  {
   "cell_type": "code",
   "execution_count": 38,
   "metadata": {},
   "outputs": [
    {
     "name": "stdout",
     "output_type": "stream",
     "text": [
      "start\n",
      "sentence\n"
     ]
    }
   ],
   "source": [
    "st = 'Print only the words that start with s in this sentence'\n",
    "st= st.split()\n",
    "for word in st:\n",
    "    if len(word)>1 and word[0] == 's':\n",
    "     print(word)"
   ]
  },
  {
   "cell_type": "markdown",
   "metadata": {},
   "source": [
    "___\n",
    "**Use a List Comprehension to create a list of all numbers between 1 and 50 that are divisible by 3.**"
   ]
  },
  {
   "cell_type": "code",
   "execution_count": 45,
   "metadata": {},
   "outputs": [
    {
     "name": "stdout",
     "output_type": "stream",
     "text": [
      "[3, 6, 9, 12, 15, 18, 21, 24, 27, 30, 33, 36, 39, 42, 45, 48]\n"
     ]
    }
   ],
   "source": [
    "numbs = list(i for i in range(1,51) if i%3==0)\n",
    "print(numbs)"
   ]
  },
  {
   "cell_type": "markdown",
   "metadata": {},
   "source": [
    "_____\n",
    "**Go through the string below and if the length of a word is even print \"even!\"**"
   ]
  },
  {
   "cell_type": "code",
   "execution_count": null,
   "metadata": {},
   "outputs": [],
   "source": [
    "st = 'Print every word in this sentence that has an even number of letters'"
   ]
  },
  {
   "cell_type": "code",
   "execution_count": 25,
   "metadata": {},
   "outputs": [
    {
     "name": "stdout",
     "output_type": "stream",
     "text": [
      "word\n",
      "in\n",
      "this\n",
      "sentence\n",
      "that\n",
      "an\n",
      "even\n",
      "number\n",
      "of\n"
     ]
    }
   ],
   "source": [
    "st = 'Print every word in this sentence that has an even number of letters'\n",
    "st= st.split()\n",
    "for word in st:\n",
    "    if len(word)%2 == 0:\n",
    "        print(word)\n"
   ]
  },
  {
   "cell_type": "markdown",
   "metadata": {},
   "source": [
    "____\n",
    "**Write a program that prints the integers from 1 to 100. But for multiples of three print \"Fizz\" instead of the number, and for the multiples of five print \"Buzz\". For numbers which are multiples of both three and five print \"FizzBuzz\".**"
   ]
  },
  {
   "cell_type": "code",
   "execution_count": 33,
   "metadata": {},
   "outputs": [
    {
     "name": "stdout",
     "output_type": "stream",
     "text": [
      "None\n",
      "None\n",
      "Fizz\n",
      "None\n",
      "Buzz\n",
      "Fizz\n",
      "None\n",
      "None\n",
      "Fizz\n",
      "Buzz\n",
      "None\n",
      "Fizz\n",
      "None\n",
      "None\n",
      "FuzzBuzz\n",
      "None\n",
      "None\n",
      "Fizz\n",
      "None\n",
      "Buzz\n",
      "Fizz\n",
      "None\n",
      "None\n",
      "Fizz\n",
      "Buzz\n",
      "None\n",
      "Fizz\n",
      "None\n",
      "None\n",
      "FuzzBuzz\n",
      "None\n",
      "None\n",
      "Fizz\n",
      "None\n",
      "Buzz\n",
      "Fizz\n",
      "None\n",
      "None\n",
      "Fizz\n",
      "Buzz\n",
      "None\n",
      "Fizz\n",
      "None\n",
      "None\n",
      "FuzzBuzz\n",
      "None\n",
      "None\n",
      "Fizz\n",
      "None\n",
      "Buzz\n",
      "Fizz\n",
      "None\n",
      "None\n",
      "Fizz\n",
      "Buzz\n",
      "None\n",
      "Fizz\n",
      "None\n",
      "None\n",
      "FuzzBuzz\n",
      "None\n",
      "None\n",
      "Fizz\n",
      "None\n",
      "Buzz\n",
      "Fizz\n",
      "None\n",
      "None\n",
      "Fizz\n",
      "Buzz\n",
      "None\n",
      "Fizz\n",
      "None\n",
      "None\n",
      "FuzzBuzz\n",
      "None\n",
      "None\n",
      "Fizz\n",
      "None\n",
      "Buzz\n",
      "Fizz\n",
      "None\n",
      "None\n",
      "Fizz\n",
      "Buzz\n",
      "None\n",
      "Fizz\n",
      "None\n",
      "None\n",
      "FuzzBuzz\n",
      "None\n",
      "None\n",
      "Fizz\n",
      "None\n",
      "Buzz\n",
      "Fizz\n",
      "None\n",
      "None\n",
      "Fizz\n",
      "Buzz\n"
     ]
    }
   ],
   "source": [
    "for i in range(1,101):\n",
    "    if i%3 == 0 and i%5 == 0:\n",
    "        print(\"FuzzBuzz\")\n",
    "    elif i%3 == 0:\n",
    "        print(\"Fizz\")\n",
    "    elif i%5 == 0:\n",
    "        print(\"Buzz\")\n",
    "    else:\n",
    "        print(\"None\")"
   ]
  },
  {
   "cell_type": "markdown",
   "metadata": {},
   "source": [
    "____\n",
    "**Use List Comprehension to create a list of the first letters of every word in the string below:**"
   ]
  },
  {
   "cell_type": "code",
   "execution_count": null,
   "metadata": {},
   "outputs": [],
   "source": [
    "st = 'Create a list of the first letters of every word in this string'"
   ]
  },
  {
   "cell_type": "code",
   "execution_count": 37,
   "metadata": {},
   "outputs": [
    {
     "name": "stdout",
     "output_type": "stream",
     "text": [
      "['C', 'a', 'l', 'o', 't', 'f', 'l', 'o', 'e', 'w', 'i', 't', 's']\n"
     ]
    }
   ],
   "source": [
    "st = 'Create a list of the first letters of every word in this string'\n",
    "st = st.split()\n",
    "first_letters = [word[0]  for word in st]\n",
    "print(first_letters)"
   ]
  },
  {
   "cell_type": "markdown",
   "metadata": {},
   "source": [
    "### Great Job!\n",
    "#GG"
   ]
  },
  {
   "cell_type": "code",
   "execution_count": null,
   "metadata": {},
   "outputs": [],
   "source": []
  }
 ],
 "metadata": {
  "kernelspec": {
   "display_name": "Python 3 (ipykernel)",
   "language": "python",
   "name": "python3"
  },
  "language_info": {
   "codemirror_mode": {
    "name": "ipython",
    "version": 3
   },
   "file_extension": ".py",
   "mimetype": "text/x-python",
   "name": "python",
   "nbconvert_exporter": "python",
   "pygments_lexer": "ipython3",
   "version": "3.9.12"
  }
 },
 "nbformat": 4,
 "nbformat_minor": 4
}

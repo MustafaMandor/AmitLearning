{
 "cells": [
  {
   "cell_type": "markdown",
   "id": "61ed4568-7c27-4061-a859-9e4bd7a49efb",
   "metadata": {
    "tags": []
   },
   "source": [
    "# Assignment 1 , Mustafa Mandor"
   ]
  },
  {
   "cell_type": "markdown",
   "id": "7d17b2c8-11b6-4dce-9d86-934982927079",
   "metadata": {
    "jp-MarkdownHeadingCollapsed": true,
    "tags": []
   },
   "source": [
    "## First Question"
   ]
  },
  {
   "cell_type": "code",
   "execution_count": 20,
   "id": "d4f5c3c7-a62a-41a4-9bd3-585d130d2210",
   "metadata": {},
   "outputs": [
    {
     "name": "stdout",
     "output_type": "stream",
     "text": [
      "[0, 1, 1, 2, 3, 5, 8, 13, 21, 34, 55, 89, 144, 233, 377, 610, 987, 1597, 2584, 4181, 6765, 10946, 17711, 28657, 46368, 75025, 121393, 196418, 317811, 514229, 832040, 1346269, 2178309, 3524578, 5702887, 9227465, 14930352, 24157817, 39088169, 63245986, 102334155, 165580141, 267914296, 433494437, 701408733, 1134903170, 1836311903, 2971215073, 4807526976, 7778742049]\n"
     ]
    }
   ],
   "source": [
    "def Fibonacci(number):\n",
    "    list1=[0,1]\n",
    "    while len(list1)<number:\n",
    "        x=len(list1)-1\n",
    "        y=len(list1)-2\n",
    "        list1.append(list1[x]+list1[y])\n",
    "    print(list1)\n",
    "Fibonacci(50)       "
   ]
  },
  {
   "cell_type": "markdown",
   "id": "53f1b5bc-90ef-4b80-a73f-eb66e0aa4651",
   "metadata": {
    "jp-MarkdownHeadingCollapsed": true,
    "tags": []
   },
   "source": [
    "## Second Question"
   ]
  },
  {
   "cell_type": "code",
   "execution_count": 25,
   "id": "f345c31f-d9c3-43fb-8db9-cb41bfe3a72c",
   "metadata": {},
   "outputs": [
    {
     "name": "stdout",
     "output_type": "stream",
     "text": [
      "World Hello\n",
      "you with be Fourth the May\n"
     ]
    }
   ],
   "source": [
    "def reverse_function(string):\n",
    "    string=string.split(\" \")\n",
    "    string.reverse()\n",
    "    print(*string)\n",
    "reverse_function(\"Hello World\")\n",
    "reverse_function(\"May the Fourth be with you\")"
   ]
  },
  {
   "cell_type": "markdown",
   "id": "47dc18a3-f063-4053-b2d6-6e67d1f62b3f",
   "metadata": {
    "jp-MarkdownHeadingCollapsed": true,
    "tags": []
   },
   "source": [
    "## Third Question"
   ]
  },
  {
   "cell_type": "code",
   "execution_count": 49,
   "id": "eae255b5-c97d-4ce8-ad6f-e50f7a96d855",
   "metadata": {},
   "outputs": [
    {
     "name": "stdout",
     "output_type": "stream",
     "text": [
      "7 is a prime number\n"
     ]
    }
   ],
   "source": [
    "def primenumberdetector(number):\n",
    "    if number==2 or number==3 or number==5:\n",
    "        print(number,\"is a prime number\")\n",
    "    elif number%2==0 or number%3==0 or number%5==0:\n",
    "        print(number,\"is not a prime number\")\n",
    "    else:\n",
    "        print(number,\"is a prime number\")\n",
    "primenumberdetector(7)"
   ]
  },
  {
   "cell_type": "markdown",
   "id": "c26e3b04-bd2f-431f-b8da-e62b769501c2",
   "metadata": {
    "jp-MarkdownHeadingCollapsed": true,
    "tags": []
   },
   "source": [
    "## Fourth Question"
   ]
  },
  {
   "cell_type": "code",
   "execution_count": 21,
   "id": "d24aa297-b515-46f3-b956-6154073ce582",
   "metadata": {},
   "outputs": [
    {
     "name": "stdout",
     "output_type": "stream",
     "text": [
      "True\n",
      "False\n",
      "False\n"
     ]
    }
   ],
   "source": [
    "def palindrome(number):\n",
    "    number=str(number)\n",
    "    r_count=-1\n",
    "    l_count=0\n",
    "    while r_count>-len(number):\n",
    "        if number[r_count]==number[l_count]:\n",
    "            l_count+=1\n",
    "            r_count-=1\n",
    "        else:\n",
    "            print(\"False\")\n",
    "            break\n",
    "    if r_count==-len(number):\n",
    "        print(\"True\")\n",
    "palindrome(121)\n",
    "palindrome(-121)\n",
    "palindrome(10)"
   ]
  },
  {
   "cell_type": "markdown",
   "id": "4beb944e-eeff-443a-ab9d-9dcf69ae31f8",
   "metadata": {
    "jp-MarkdownHeadingCollapsed": true,
    "tags": []
   },
   "source": [
    "## Lecture Research Assignments"
   ]
  },
  {
   "cell_type": "markdown",
   "id": "692e146b-d5f9-4d9a-a1e2-ad161d630849",
   "metadata": {
    "jp-MarkdownHeadingCollapsed": true,
    "tags": []
   },
   "source": [
    "### 1- Asterisk in printing lists can be used to remove the list boundries (Commas and Brackets) and makes the printed data all in one single line."
   ]
  },
  {
   "cell_type": "markdown",
   "id": "e7f7385f-0844-4452-bc63-706d95ad0e83",
   "metadata": {
    "jp-MarkdownHeadingCollapsed": true,
    "tags": []
   },
   "source": [
    "### 2- We can add functionality to function without adding to the function body by decorators."
   ]
  }
 ],
 "metadata": {
  "kernelspec": {
   "display_name": "Python 3 (ipykernel)",
   "language": "python",
   "name": "python3"
  },
  "language_info": {
   "codemirror_mode": {
    "name": "ipython",
    "version": 3
   },
   "file_extension": ".py",
   "mimetype": "text/x-python",
   "name": "python",
   "nbconvert_exporter": "python",
   "pygments_lexer": "ipython3",
   "version": "3.9.12"
  }
 },
 "nbformat": 4,
 "nbformat_minor": 5
}

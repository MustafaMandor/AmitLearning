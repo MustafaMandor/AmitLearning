{
 "cells": [
  {
   "cell_type": "markdown",
   "id": "97bbaee4-bab8-435d-adf1-77ac3ec37a81",
   "metadata": {
    "jp-MarkdownHeadingCollapsed": true,
    "tags": []
   },
   "source": [
    "# Mustafa Mandor\n",
    "## Assignment 2"
   ]
  },
  {
   "cell_type": "markdown",
   "id": "5a3dea7c-5393-4413-8f7a-38058162791a",
   "metadata": {
    "jp-MarkdownHeadingCollapsed": true,
    "tags": []
   },
   "source": [
    "## Question 1"
   ]
  },
  {
   "cell_type": "code",
   "execution_count": 6,
   "id": "28a27640-e8cc-449a-b580-8bace23b9a25",
   "metadata": {},
   "outputs": [
    {
     "name": "stdin",
     "output_type": "stream",
     "text": [
      "Please, Enter the length: 10\n",
      "Please, Enter the width: 20\n"
     ]
    },
    {
     "name": "stdout",
     "output_type": "stream",
     "text": [
      "Your length is: 10.0\n",
      "Your width is: 20.0\n",
      "Parameter of rectangle is: 60.0\n",
      "Area of rectangleis: 200.0\n"
     ]
    }
   ],
   "source": [
    "x=float(input(\"Please, Enter the length:\"))\n",
    "y=float(input(\"Please, Enter the width:\"))\n",
    "class Rect():\n",
    "    def __init__(self,x,y):\n",
    "        self.l=x\n",
    "        self.w=y\n",
    "    def Para(self):\n",
    "        return 2*(self.l+self.w)\n",
    "    def Area(self):\n",
    "        return self.l*self.w\n",
    "    def Display(self):\n",
    "        print(\"Your length is:\",self.l)\n",
    "        print(\"Your width is:\",self.w)\n",
    "        print(\"Parameter of rectangle is:\",r1.Para())\n",
    "        print(\"Area of rectangleis:\",r1.Area())\n",
    "class Parallelepipede(Rect):\n",
    "    def __init__(self,x,y):\n",
    "        super().__init__(x,y)\n",
    "    def Volume(self):\n",
    "        z=float(input(\"Please, Enter the height:\"))\n",
    "        print(\"Volume of Parallelepipede is:\",self.l*self.w*z)\n",
    "    \n",
    "r1=Rect(x,y)\n",
    "r2=Parallelepipede(x,y)\n",
    "r1.Display()"
   ]
  },
  {
   "cell_type": "code",
   "execution_count": 7,
   "id": "de3005bb-f18e-4aca-9ada-472472f08dc7",
   "metadata": {},
   "outputs": [
    {
     "name": "stdin",
     "output_type": "stream",
     "text": [
      "Please, Enter the height: 10\n"
     ]
    },
    {
     "name": "stdout",
     "output_type": "stream",
     "text": [
      "Volume of Parallelepipede is: 2000.0\n"
     ]
    }
   ],
   "source": [
    "r2.Volume()"
   ]
  },
  {
   "cell_type": "markdown",
   "id": "98db1937-9a63-41a8-8a97-c40186c95dd3",
   "metadata": {
    "jp-MarkdownHeadingCollapsed": true,
    "tags": []
   },
   "source": [
    "## Question 2"
   ]
  },
  {
   "cell_type": "code",
   "execution_count": 6,
   "id": "e8257820-d7f5-4f46-a42d-e9c0475b5883",
   "metadata": {},
   "outputs": [
    {
     "name": "stdout",
     "output_type": "stream",
     "text": [
      "The name is: Ahmed\n",
      "The age is: 21\n"
     ]
    }
   ],
   "source": [
    "class Person():\n",
    "    def __init__(self,name,age):\n",
    "        self.n=name\n",
    "        self.a=age\n",
    "    def Display(self):\n",
    "        print(\"The name is:\",self.n)\n",
    "        print(\"The age is:\",self.a)\n",
    "class Child(Person):\n",
    "    def __init__(self,name,age,section):\n",
    "        super().__init__(name,age)\n",
    "        self.s=section\n",
    "    def Disp_Std(self):\n",
    "        print(\"The name is:\",self.n)\n",
    "        print(\"The age is:\",self.a)\n",
    "        print(\"The section is:\",self.s)\n",
    "\n",
    "r1=Child(\"Ahmed\",\"21\",\"English\")\n",
    "r1.Display()\n"
   ]
  },
  {
   "cell_type": "code",
   "execution_count": 11,
   "id": "302902fd-d7c3-496a-b973-cf9a2cb47f91",
   "metadata": {},
   "outputs": [
    {
     "name": "stdout",
     "output_type": "stream",
     "text": [
      "The name is: Ahmed\n",
      "The age is: 21\n",
      "The section is: English\n"
     ]
    }
   ],
   "source": [
    "r1.Disp_Std()"
   ]
  },
  {
   "cell_type": "markdown",
   "id": "4d10f753-add3-42f4-a873-4daf4a258ba7",
   "metadata": {
    "jp-MarkdownHeadingCollapsed": true,
    "tags": []
   },
   "source": [
    "## Question 3"
   ]
  },
  {
   "cell_type": "code",
   "execution_count": 11,
   "id": "0987ee2c-2bc7-444d-be41-97a8f4ce44eb",
   "metadata": {},
   "outputs": [],
   "source": [
    "import math\n",
    "class Computation():\n",
    "    number=20\n",
    "    def __init__(self):\n",
    "###The number used is five\n",
    "        self.n=5\n",
    "    def factorial(self):\n",
    "        return (math.factorial(self.n))\n",
    "    def Sum(self):\n",
    "        x=0\n",
    "        for i in range(self.n+1):\n",
    "\n",
    "            x+=i\n",
    "            \n",
    "        print(x)\n",
    "    def testPrim(self):\n",
    "        if self.n==2 or self.n==3 or self.n==5:\n",
    "            print(self.n,\"is a prime number\")\n",
    "        elif self.n%2==0 or self.n%3==0 or self.n%5==0:\n",
    "            print(self.n,\"is not a prime number\")\n",
    "        else:\n",
    "            print(self.n,\"is a prime number\")\n",
    "    def tableMult(self):\n",
    "        for i in range(1, 11):\n",
    "            print(self.n, 'x', i, '=', self.n*i)\n",
    "    def allTablesMult(self):\n",
    "        for i in range(1,11):\n",
    "            for z in range(1,11):\n",
    "                print(i,'x',z,'=',i*z)\n",
    "    def listDivPrim(self):\n",
    "        for i in range(1, self.n + 1):\n",
    "            if self.n % i == 0:\n",
    "                print(i,\"is a divisor of\",self.n)\n",
    "    \n",
    "    @staticmethod\n",
    "    def listDiv(Ldiv=[5,30,10]):\n",
    "        for d in range(len(Ldiv)):\n",
    "            e=Ldiv[d]\n",
    "            for f in range(1, e + 1):\n",
    "                if e % f == 0:\n",
    "                    print(f,\"is a divisor of\",e)\n",
    "       "
   ]
  },
  {
   "cell_type": "code",
   "execution_count": 12,
   "id": "d9360abe-ad36-4cf2-9184-4de981586cc9",
   "metadata": {},
   "outputs": [
    {
     "data": {
      "text/plain": [
       "120"
      ]
     },
     "execution_count": 12,
     "metadata": {},
     "output_type": "execute_result"
    }
   ],
   "source": [
    "Comp=Computation()\n",
    "Comp.factorial()"
   ]
  },
  {
   "cell_type": "code",
   "execution_count": 13,
   "id": "b989a352-e28d-4744-89f1-d9c869d02725",
   "metadata": {},
   "outputs": [
    {
     "name": "stdout",
     "output_type": "stream",
     "text": [
      "15\n"
     ]
    }
   ],
   "source": [
    "Comp.Sum()"
   ]
  },
  {
   "cell_type": "code",
   "execution_count": 14,
   "id": "ef704f28-6e45-4fd3-99e9-448edafc8852",
   "metadata": {},
   "outputs": [
    {
     "name": "stdout",
     "output_type": "stream",
     "text": [
      "5 is a prime number\n"
     ]
    }
   ],
   "source": [
    "Comp.testPrim()"
   ]
  },
  {
   "cell_type": "code",
   "execution_count": 15,
   "id": "0705080e-0eaa-4517-a364-83416fd8adbc",
   "metadata": {},
   "outputs": [
    {
     "name": "stdout",
     "output_type": "stream",
     "text": [
      "5 x 1 = 5\n",
      "5 x 2 = 10\n",
      "5 x 3 = 15\n",
      "5 x 4 = 20\n",
      "5 x 5 = 25\n",
      "5 x 6 = 30\n",
      "5 x 7 = 35\n",
      "5 x 8 = 40\n",
      "5 x 9 = 45\n",
      "5 x 10 = 50\n"
     ]
    }
   ],
   "source": [
    "Comp.tableMult()"
   ]
  },
  {
   "cell_type": "code",
   "execution_count": 16,
   "id": "6288562a-026c-4d8f-a691-1b1c3cbd69e7",
   "metadata": {},
   "outputs": [
    {
     "name": "stdout",
     "output_type": "stream",
     "text": [
      "1 x 1 = 1\n",
      "1 x 2 = 2\n",
      "1 x 3 = 3\n",
      "1 x 4 = 4\n",
      "1 x 5 = 5\n",
      "1 x 6 = 6\n",
      "1 x 7 = 7\n",
      "1 x 8 = 8\n",
      "1 x 9 = 9\n",
      "1 x 10 = 10\n",
      "2 x 1 = 2\n",
      "2 x 2 = 4\n",
      "2 x 3 = 6\n",
      "2 x 4 = 8\n",
      "2 x 5 = 10\n",
      "2 x 6 = 12\n",
      "2 x 7 = 14\n",
      "2 x 8 = 16\n",
      "2 x 9 = 18\n",
      "2 x 10 = 20\n",
      "3 x 1 = 3\n",
      "3 x 2 = 6\n",
      "3 x 3 = 9\n",
      "3 x 4 = 12\n",
      "3 x 5 = 15\n",
      "3 x 6 = 18\n",
      "3 x 7 = 21\n",
      "3 x 8 = 24\n",
      "3 x 9 = 27\n",
      "3 x 10 = 30\n",
      "4 x 1 = 4\n",
      "4 x 2 = 8\n",
      "4 x 3 = 12\n",
      "4 x 4 = 16\n",
      "4 x 5 = 20\n",
      "4 x 6 = 24\n",
      "4 x 7 = 28\n",
      "4 x 8 = 32\n",
      "4 x 9 = 36\n",
      "4 x 10 = 40\n",
      "5 x 1 = 5\n",
      "5 x 2 = 10\n",
      "5 x 3 = 15\n",
      "5 x 4 = 20\n",
      "5 x 5 = 25\n",
      "5 x 6 = 30\n",
      "5 x 7 = 35\n",
      "5 x 8 = 40\n",
      "5 x 9 = 45\n",
      "5 x 10 = 50\n",
      "6 x 1 = 6\n",
      "6 x 2 = 12\n",
      "6 x 3 = 18\n",
      "6 x 4 = 24\n",
      "6 x 5 = 30\n",
      "6 x 6 = 36\n",
      "6 x 7 = 42\n",
      "6 x 8 = 48\n",
      "6 x 9 = 54\n",
      "6 x 10 = 60\n",
      "7 x 1 = 7\n",
      "7 x 2 = 14\n",
      "7 x 3 = 21\n",
      "7 x 4 = 28\n",
      "7 x 5 = 35\n",
      "7 x 6 = 42\n",
      "7 x 7 = 49\n",
      "7 x 8 = 56\n",
      "7 x 9 = 63\n",
      "7 x 10 = 70\n",
      "8 x 1 = 8\n",
      "8 x 2 = 16\n",
      "8 x 3 = 24\n",
      "8 x 4 = 32\n",
      "8 x 5 = 40\n",
      "8 x 6 = 48\n",
      "8 x 7 = 56\n",
      "8 x 8 = 64\n",
      "8 x 9 = 72\n",
      "8 x 10 = 80\n",
      "9 x 1 = 9\n",
      "9 x 2 = 18\n",
      "9 x 3 = 27\n",
      "9 x 4 = 36\n",
      "9 x 5 = 45\n",
      "9 x 6 = 54\n",
      "9 x 7 = 63\n",
      "9 x 8 = 72\n",
      "9 x 9 = 81\n",
      "9 x 10 = 90\n",
      "10 x 1 = 10\n",
      "10 x 2 = 20\n",
      "10 x 3 = 30\n",
      "10 x 4 = 40\n",
      "10 x 5 = 50\n",
      "10 x 6 = 60\n",
      "10 x 7 = 70\n",
      "10 x 8 = 80\n",
      "10 x 9 = 90\n",
      "10 x 10 = 100\n"
     ]
    }
   ],
   "source": [
    "Comp.allTablesMult()"
   ]
  },
  {
   "cell_type": "code",
   "execution_count": 17,
   "id": "9a0ebde0-1572-45ed-bbd0-0eb80dadc773",
   "metadata": {},
   "outputs": [
    {
     "name": "stdout",
     "output_type": "stream",
     "text": [
      "1 is a divisor of 5\n",
      "5 is a divisor of 5\n",
      "1 is a divisor of 30\n",
      "2 is a divisor of 30\n",
      "3 is a divisor of 30\n",
      "5 is a divisor of 30\n",
      "6 is a divisor of 30\n",
      "10 is a divisor of 30\n",
      "15 is a divisor of 30\n",
      "30 is a divisor of 30\n",
      "1 is a divisor of 10\n",
      "2 is a divisor of 10\n",
      "5 is a divisor of 10\n",
      "10 is a divisor of 10\n"
     ]
    }
   ],
   "source": [
    "Comp.listDiv()"
   ]
  },
  {
   "cell_type": "code",
   "execution_count": 18,
   "id": "6b886d53-fbb4-480f-ae92-d5f3991a8553",
   "metadata": {},
   "outputs": [
    {
     "name": "stdout",
     "output_type": "stream",
     "text": [
      "1 is a divisor of 5\n",
      "5 is a divisor of 5\n"
     ]
    }
   ],
   "source": [
    "Comp.listDivPrim()"
   ]
  },
  {
   "cell_type": "markdown",
   "id": "b25c9d30-a20b-4d3c-a508-887776da893d",
   "metadata": {
    "jp-MarkdownHeadingCollapsed": true,
    "tags": []
   },
   "source": [
    "## Question 4"
   ]
  },
  {
   "cell_type": "code",
   "execution_count": 5,
   "id": "e9991292-c0b5-4649-99ba-6d8353162ac8",
   "metadata": {},
   "outputs": [
    {
     "name": "stdin",
     "output_type": "stream",
     "text": [
      "Please, Enter the first string: abcdefghijklmnopqrstuvwxyz\n",
      "Please, Enter the second string: a b c d e f g\n"
     ]
    },
    {
     "name": "stdout",
     "output_type": "stream",
     "text": [
      "The longest common string is: abcdefg and is 7\n"
     ]
    }
   ],
   "source": [
    "z=0\n",
    "w=\"\"\n",
    "s1=input(\"Please, Enter the first string:\")\n",
    "s2=input(\"Please, Enter the second string:\")\n",
    "if len(s1)>len(s2):\n",
    "    y=s1\n",
    "    x=s2\n",
    "else:\n",
    "    y=s2\n",
    "    x=s1\n",
    "while z<len(y):\n",
    "    for i in range(len(y)):\n",
    "        if y[i]  in x:\n",
    "            z+=1\n",
    "            w+=y[i]\n",
    "    break\n",
    "    \n",
    "print(\"The longest common string is:\",w,\"and is\",z)  \n"
   ]
  }
 ],
 "metadata": {
  "kernelspec": {
   "display_name": "Python 3 (ipykernel)",
   "language": "python",
   "name": "python3"
  },
  "language_info": {
   "codemirror_mode": {
    "name": "ipython",
    "version": 3
   },
   "file_extension": ".py",
   "mimetype": "text/x-python",
   "name": "python",
   "nbconvert_exporter": "python",
   "pygments_lexer": "ipython3",
   "version": "3.9.12"
  }
 },
 "nbformat": 4,
 "nbformat_minor": 5
}

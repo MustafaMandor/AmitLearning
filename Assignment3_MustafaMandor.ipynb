{
 "cells": [
  {
   "cell_type": "markdown",
   "id": "2bc71272-a67a-48b3-be04-60ff1ad9b9a0",
   "metadata": {
    "tags": []
   },
   "source": [
    "# Assignment 3 \n",
    "# Mustafa Mandor"
   ]
  },
  {
   "cell_type": "markdown",
   "id": "ed1ad860-b871-4cca-a00e-3804759df980",
   "metadata": {
    "jp-MarkdownHeadingCollapsed": true,
    "tags": []
   },
   "source": [
    "## 1 "
   ]
  },
  {
   "cell_type": "code",
   "execution_count": 1,
   "id": "c12952f8-8855-42b0-aa63-52944d355939",
   "metadata": {},
   "outputs": [],
   "source": [
    "import numpy as np"
   ]
  },
  {
   "cell_type": "code",
   "execution_count": 23,
   "id": "b8aea343-998e-4504-ad41-469668b8c417",
   "metadata": {},
   "outputs": [
    {
     "name": "stdout",
     "output_type": "stream",
     "text": [
      "The Array [1 5 0 0 0 2 3] Contains Zero Elements = 3\n"
     ]
    }
   ],
   "source": [
    "a=np.array([1,5,0,0,0,2,3])\n",
    "b=[]\n",
    "c=0\n",
    "for i in a:\n",
    "    if i!=0:\n",
    "        b.append(i)\n",
    "    else:\n",
    "        c+=1\n",
    "if len(b)!=len(a):\n",
    "    print(\"The Array\",a,\"Contains Zero Elements =\",c)"
   ]
  },
  {
   "cell_type": "markdown",
   "id": "ad43a09b-9a09-4581-be72-056f6a60192e",
   "metadata": {
    "jp-MarkdownHeadingCollapsed": true,
    "tags": []
   },
   "source": [
    "## 2"
   ]
  },
  {
   "cell_type": "code",
   "execution_count": 10,
   "id": "2d48600c-fdee-42dc-9300-7f6e4fcf480a",
   "metadata": {},
   "outputs": [],
   "source": [
    "import numpy as np"
   ]
  },
  {
   "cell_type": "code",
   "execution_count": 25,
   "id": "5bf001b6-1267-4a20-9383-f45faa39a914",
   "metadata": {},
   "outputs": [
    {
     "name": "stdout",
     "output_type": "stream",
     "text": [
      "The Array: [1 5 0 0 0 2 3] Contains Non-Zero Elements = 4\n"
     ]
    }
   ],
   "source": [
    "a=np.array([1,5,0,0,0,2,3])\n",
    "b=[]\n",
    "c=0\n",
    "for i in a:\n",
    "    if i==0:\n",
    "        b.append(i)\n",
    "    else:\n",
    "        c+=1\n",
    "if len(b)!=len(a):\n",
    "    print(\"The Array:\",a,\"Contains Non-Zero Elements =\",c)\n"
   ]
  },
  {
   "cell_type": "markdown",
   "id": "52be9e44-7af1-4476-ad33-8b3bdb7d9691",
   "metadata": {
    "jp-MarkdownHeadingCollapsed": true,
    "tags": []
   },
   "source": [
    "## 3"
   ]
  },
  {
   "cell_type": "code",
   "execution_count": 26,
   "id": "ad684df5-aec8-4f57-b818-32ef90b985a3",
   "metadata": {},
   "outputs": [],
   "source": [
    "import numpy as np"
   ]
  },
  {
   "cell_type": "code",
   "execution_count": 48,
   "id": "a4bcd953-6c54-4278-9517-cc689dcb61b4",
   "metadata": {},
   "outputs": [],
   "source": [
    "a=np.array([[1,2,3,4,0],\n",
    "            [2,3]],dtype='object')\n",
    "b=np.array([[1,2,3,4,0],\n",
    "            [2,3]],dtype='object')\n",
    "c=np.array([[1,2,3,4,0],\n",
    "            [2,1]],dtype='object')\n",
    "d=np.array([[3,2,3,2,3],\n",
    "            [2,3]],dtype='object')\n",
    "e=np.array([[65,22,43,64,90],\n",
    "            [25,31]],dtype='object')\n",
    "def wiseOP(x,y):\n",
    "    if ((x==y).all()) and (x.shape==y.shape):\n",
    "        print(\"The Two Arrays Are Equal\")\n",
    "    elif ((x==y).all()) or (x.shape==y.shape):\n",
    "        print(\"The Two Arrays Are Partially Equal\") "
   ]
  },
  {
   "cell_type": "code",
   "execution_count": 49,
   "id": "a77de4a7-cd4f-45e9-a6fd-600f060b127c",
   "metadata": {},
   "outputs": [
    {
     "name": "stdout",
     "output_type": "stream",
     "text": [
      "The Two Arrays Are Equal\n",
      "The Two Arrays Are Partially Equal\n",
      "The Two Arrays Are Partially Equal\n"
     ]
    }
   ],
   "source": [
    "wiseOP(a,b)\n",
    "wiseOP(b,c)\n",
    "wiseOP(e,d)"
   ]
  },
  {
   "cell_type": "markdown",
   "id": "16e5ff5c-1203-44d4-b391-04cf6d70d9e5",
   "metadata": {
    "jp-MarkdownHeadingCollapsed": true,
    "tags": []
   },
   "source": [
    "## 4"
   ]
  },
  {
   "cell_type": "code",
   "execution_count": 50,
   "id": "72e6a375-1323-4331-9f95-b5d0e2dd90b7",
   "metadata": {},
   "outputs": [],
   "source": [
    "import numpy as np"
   ]
  },
  {
   "cell_type": "code",
   "execution_count": 109,
   "id": "095ff788-086b-4497-8c9a-92983f015157",
   "metadata": {},
   "outputs": [
    {
     "name": "stdout",
     "output_type": "stream",
     "text": [
      "[0. 0. 0. 0. 0. 0. 0. 0. 0. 0.]\n",
      "[1. 1. 1. 1. 1. 1. 1. 1. 1. 1.]\n",
      "[5. 5. 5. 5. 5. 5. 5. 5. 5. 5.]\n"
     ]
    }
   ],
   "source": [
    "a0=np.zeros([10])\n",
    "a1=np.ones([10])\n",
    "print(a0)\n",
    "print(a1)\n",
    "print(a1*5)"
   ]
  },
  {
   "cell_type": "markdown",
   "id": "31e6e6b3-0033-4ffb-b5d5-0917e4dd0226",
   "metadata": {
    "jp-MarkdownHeadingCollapsed": true,
    "tags": []
   },
   "source": [
    "## 5"
   ]
  },
  {
   "cell_type": "code",
   "execution_count": 62,
   "id": "53a52a87-853d-4d83-a5bd-ca4d262cd3a8",
   "metadata": {},
   "outputs": [],
   "source": [
    "import numpy as np"
   ]
  },
  {
   "cell_type": "code",
   "execution_count": 66,
   "id": "1311d96a-d656-413a-ae81-a77eacfb5071",
   "metadata": {},
   "outputs": [
    {
     "name": "stdout",
     "output_type": "stream",
     "text": [
      "[30 31 32 33 34 35 36 37 38 39 40 41 42 43 44 45 46 47 48 49 50 51 52 53\n",
      " 54 55 56 57 58 59 60 61 62 63 64 65 66 67 68 69 70]\n"
     ]
    }
   ],
   "source": [
    "a1=np.arange(30,71)\n",
    "print(a1)"
   ]
  },
  {
   "cell_type": "markdown",
   "id": "156dc551-6636-4e98-a12a-f859f6ef68a5",
   "metadata": {
    "jp-MarkdownHeadingCollapsed": true,
    "tags": []
   },
   "source": [
    "## 6"
   ]
  },
  {
   "cell_type": "code",
   "execution_count": 67,
   "id": "fc538b0a-e983-4700-be6c-360a3aeb649b",
   "metadata": {},
   "outputs": [],
   "source": [
    "import numpy as np"
   ]
  },
  {
   "cell_type": "code",
   "execution_count": 68,
   "id": "2c07c1fe-0280-440a-b975-c46e264e2efb",
   "metadata": {},
   "outputs": [
    {
     "name": "stdout",
     "output_type": "stream",
     "text": [
      "[[1. 0. 0.]\n",
      " [0. 1. 0.]\n",
      " [0. 0. 1.]]\n"
     ]
    }
   ],
   "source": [
    "a1=np.eye(3)\n",
    "print(a1)"
   ]
  },
  {
   "cell_type": "markdown",
   "id": "36cfb4d7-4d04-4fe1-8891-328dde02c1ae",
   "metadata": {
    "jp-MarkdownHeadingCollapsed": true,
    "tags": []
   },
   "source": [
    "## 7"
   ]
  },
  {
   "cell_type": "code",
   "execution_count": 99,
   "id": "14c2be2f-1a88-44d0-a4f3-06866041dcb6",
   "metadata": {},
   "outputs": [],
   "source": [
    "import numpy as np"
   ]
  },
  {
   "cell_type": "code",
   "execution_count": 100,
   "id": "b1b88652-63a4-446d-8af7-9f96ca6187bc",
   "metadata": {},
   "outputs": [
    {
     "name": "stdout",
     "output_type": "stream",
     "text": [
      "0.3738205511504903\n"
     ]
    }
   ],
   "source": [
    "a1=np.random.rand()\n",
    "print(a1)"
   ]
  },
  {
   "cell_type": "markdown",
   "id": "16830ce0-a973-4d63-a47c-9bbb9e8c3034",
   "metadata": {
    "jp-MarkdownHeadingCollapsed": true,
    "tags": []
   },
   "source": [
    "## 8"
   ]
  },
  {
   "cell_type": "code",
   "execution_count": 77,
   "id": "632db7d6-87f5-463f-bddc-f01e6916aaa9",
   "metadata": {},
   "outputs": [],
   "source": [
    "import numpy as np"
   ]
  },
  {
   "cell_type": "code",
   "execution_count": 97,
   "id": "2bbcdd4d-1200-4e1d-9ce2-b71201734f5d",
   "metadata": {},
   "outputs": [
    {
     "name": "stdout",
     "output_type": "stream",
     "text": [
      "[0.72361299 0.80277171 0.7662711  0.71535227 0.18624399 0.76999292\n",
      " 0.45836765 0.10959902 0.60408325 0.71232273 0.08545496 0.2631499\n",
      " 0.54556541 0.43212249 0.78269757]\n"
     ]
    }
   ],
   "source": [
    "a1=np.random.rand(15)\n",
    "print((a1))"
   ]
  },
  {
   "cell_type": "markdown",
   "id": "7377c131-3cff-47ee-bbbd-44912b2106e4",
   "metadata": {
    "jp-MarkdownHeadingCollapsed": true,
    "tags": []
   },
   "source": [
    "## 9"
   ]
  },
  {
   "cell_type": "code",
   "execution_count": 110,
   "id": "b2a70dc5-92ba-46cd-a505-990339bee2d7",
   "metadata": {},
   "outputs": [],
   "source": [
    "import numpy as np"
   ]
  },
  {
   "cell_type": "code",
   "execution_count": 119,
   "id": "d845378b-7dd9-42d2-b497-b914a1a4b04f",
   "metadata": {},
   "outputs": [
    {
     "name": "stdout",
     "output_type": "stream",
     "text": [
      "[16 17 18 19 20 21 22 23 24 25 26 27 28 29 30 31 32 33 34 35 36 37 38 39\n",
      " 40 41 42 43 44 45 46 47 48 49 50 51 52 53 54]\n"
     ]
    }
   ],
   "source": [
    "a1=np.arange(15,56)\n",
    "print(a1[1:len(a1)-1])"
   ]
  },
  {
   "cell_type": "markdown",
   "id": "371ffc44-cf87-43bf-821c-c765b059b806",
   "metadata": {
    "jp-MarkdownHeadingCollapsed": true,
    "tags": []
   },
   "source": [
    "## 10"
   ]
  },
  {
   "cell_type": "code",
   "execution_count": 123,
   "id": "ec5e7b53-5ac1-44d7-832a-8c1af02ed392",
   "metadata": {},
   "outputs": [],
   "source": [
    "import numpy as np"
   ]
  },
  {
   "cell_type": "code",
   "execution_count": 126,
   "id": "c3bf883b-c870-44d5-bc11-36c0e9deac4c",
   "metadata": {},
   "outputs": [
    {
     "name": "stdout",
     "output_type": "stream",
     "text": [
      "[2 8 9 5 2]\n"
     ]
    }
   ],
   "source": [
    "a1=np.random.randint(0,11,5)\n",
    "print(a1)"
   ]
  },
  {
   "cell_type": "markdown",
   "id": "90b42d90-6dbc-496f-bb4e-18805aa36cd2",
   "metadata": {
    "jp-MarkdownHeadingCollapsed": true,
    "tags": []
   },
   "source": [
    "## 11"
   ]
  },
  {
   "cell_type": "code",
   "execution_count": 147,
   "id": "661bed72-98a5-4f68-ba5b-14796c3d61c4",
   "metadata": {},
   "outputs": [],
   "source": [
    "import numpy as np"
   ]
  },
  {
   "cell_type": "code",
   "execution_count": 148,
   "id": "ec62ba71-967d-4962-9e56-dc83d53eb345",
   "metadata": {},
   "outputs": [
    {
     "name": "stdout",
     "output_type": "stream",
     "text": [
      "[[1. 1. 1. 1. 1. 1. 1. 1. 1. 1.]\n",
      " [1. 0. 0. 0. 0. 0. 0. 0. 0. 1.]\n",
      " [1. 0. 0. 0. 0. 0. 0. 0. 0. 1.]\n",
      " [1. 0. 0. 0. 0. 0. 0. 0. 0. 1.]\n",
      " [1. 0. 0. 0. 0. 0. 0. 0. 0. 1.]\n",
      " [1. 0. 0. 0. 0. 0. 0. 0. 0. 1.]\n",
      " [1. 0. 0. 0. 0. 0. 0. 0. 0. 1.]\n",
      " [1. 0. 0. 0. 0. 0. 0. 0. 0. 1.]\n",
      " [1. 0. 0. 0. 0. 0. 0. 0. 0. 1.]\n",
      " [1. 1. 1. 1. 1. 1. 1. 1. 1. 1.]]\n"
     ]
    }
   ],
   "source": [
    "x = np.ones((10, 10))\n",
    "x[1:-1, 1:-1] = 0\n",
    "print(x)\n",
    "    "
   ]
  },
  {
   "cell_type": "markdown",
   "id": "f57a5760-ea8e-4f9a-8b62-b252a7fbc18a",
   "metadata": {
    "jp-MarkdownHeadingCollapsed": true,
    "tags": []
   },
   "source": [
    "## 12"
   ]
  },
  {
   "cell_type": "code",
   "execution_count": 149,
   "id": "505ae777-cb90-43c6-b872-125f125eb8e3",
   "metadata": {},
   "outputs": [],
   "source": [
    "import numpy as np"
   ]
  },
  {
   "cell_type": "code",
   "execution_count": 154,
   "id": "f7927b19-f2bd-4acb-976a-8c6c71a1e910",
   "metadata": {},
   "outputs": [
    {
     "name": "stdout",
     "output_type": "stream",
     "text": [
      "[[1. 0. 0. 0. 0.]\n",
      " [0. 2. 0. 0. 0.]\n",
      " [0. 0. 3. 0. 0.]\n",
      " [0. 0. 0. 4. 0.]\n",
      " [0. 0. 0. 0. 5.]]\n"
     ]
    }
   ],
   "source": [
    "x=np.eye(5)*np.arange(1,6)\n",
    "print(x)"
   ]
  },
  {
   "cell_type": "markdown",
   "id": "82153129-9317-41c9-9a65-45a2397bd23e",
   "metadata": {
    "jp-MarkdownHeadingCollapsed": true,
    "tags": []
   },
   "source": [
    "## 13"
   ]
  },
  {
   "cell_type": "code",
   "execution_count": 155,
   "id": "a4897b39-897e-433d-b6a3-62026f75d9b1",
   "metadata": {},
   "outputs": [],
   "source": [
    "import numpy as np"
   ]
  },
  {
   "cell_type": "code",
   "execution_count": 170,
   "id": "91d07ceb-3175-4214-90de-ca283a78a852",
   "metadata": {},
   "outputs": [
    {
     "name": "stdout",
     "output_type": "stream",
     "text": [
      "[[0. 1. 1. 1.]\n",
      " [1. 0. 1. 1.]\n",
      " [1. 1. 0. 1.]\n",
      " [1. 1. 1. 0.]]\n"
     ]
    }
   ],
   "source": [
    "x=np.ones((4,4))\n",
    "for i in range(4):\n",
    "    x[i][i]=0\n",
    "print(x)"
   ]
  },
  {
   "cell_type": "markdown",
   "id": "914eefe6-9eac-4a6e-9d06-2397806307e7",
   "metadata": {
    "jp-MarkdownHeadingCollapsed": true,
    "tags": []
   },
   "source": [
    "## 14"
   ]
  },
  {
   "cell_type": "code",
   "execution_count": 173,
   "id": "11b8950d-6b89-4dd8-902c-01a6f7c46a76",
   "metadata": {},
   "outputs": [],
   "source": [
    "import numpy as np\n",
    "import os"
   ]
  },
  {
   "cell_type": "code",
   "execution_count": 175,
   "id": "60453ad3-82e4-4628-9f5c-bc0d062207d4",
   "metadata": {},
   "outputs": [
    {
     "name": "stdout",
     "output_type": "stream",
     "text": [
      "First array is: [0 1 2 3 4 5 6 7 8 9] Second array is: [11 12 13 14 15 16 17 18 19]\n",
      "Load arrays from the 'temp_arra.npz' file:\n",
      "[0 1 2 3 4 5 6 7 8 9]\n",
      "[11 12 13 14 15 16 17 18 19]\n"
     ]
    }
   ],
   "source": [
    "x = np.arange(10)\n",
    "y = np.arange(11, 20)\n",
    "print(\"First array is:\",x,\"Second array is:\",y)\n",
    "\n",
    "np.savez('temp_arra.npz', x=x, y=y)\n",
    "print(\"Load arrays from the 'temp_arra.npz' file:\")\n",
    "with np.load('temp_arra.npz') as data:\n",
    "    x2 = data['x']\n",
    "    y2 = data['y']\n",
    "    print(x2)\n",
    "    print(y2)"
   ]
  },
  {
   "cell_type": "markdown",
   "id": "1755b2e0-a1f4-4478-845a-81ebc4c75ead",
   "metadata": {
    "jp-MarkdownHeadingCollapsed": true,
    "tags": []
   },
   "source": [
    "## 15"
   ]
  },
  {
   "cell_type": "code",
   "execution_count": 176,
   "id": "d91e4fd1-f1dc-4ea5-8251-7a2d04290a62",
   "metadata": {},
   "outputs": [],
   "source": [
    "import numpy as np  "
   ]
  },
  {
   "cell_type": "code",
   "execution_count": 182,
   "id": "b3825a5e-556f-464f-ade9-3a8ea881abcc",
   "metadata": {},
   "outputs": [
    {
     "name": "stdout",
     "output_type": "stream",
     "text": [
      "[0.77132064 0.02075195 0.63364823 0.74880388 0.49850701 0.22479665\n",
      " 0.19806286 0.76053071 0.16911084 0.08833981 0.68535982 0.95339335\n",
      " 0.00394827 0.51219226 0.81262096 0.61252607 0.72175532 0.29187607\n",
      " 0.91777412 0.71457578 0.54254437 0.14217005 0.37334076 0.67413362\n",
      " 0.44183317 0.43401399 0.61776698 0.51313824 0.65039718 0.60103895\n",
      " 0.8052232  0.52164715 0.90864888 0.31923609 0.09045935 0.30070006\n",
      " 0.11398436 0.82868133 0.04689632 0.62628715]\n"
     ]
    }
   ],
   "source": [
    "np.random.seed(10)\n",
    "print(np.random.rand(40))"
   ]
  },
  {
   "cell_type": "markdown",
   "id": "04182175-a956-4192-82b5-068b8a942cc9",
   "metadata": {
    "jp-MarkdownHeadingCollapsed": true,
    "tags": []
   },
   "source": [
    "## 16"
   ]
  },
  {
   "cell_type": "code",
   "execution_count": 183,
   "id": "335c5dc2-5246-48ab-8c43-ad3ec9cb3375",
   "metadata": {},
   "outputs": [],
   "source": [
    "import numpy as np"
   ]
  },
  {
   "cell_type": "code",
   "execution_count": 191,
   "id": "9b8d03cc-22f1-4deb-a122-fd5eb3c10a62",
   "metadata": {},
   "outputs": [
    {
     "name": "stdout",
     "output_type": "stream",
     "text": [
      "[ 1  2  3  4  5  6  7  8  9 10 11 12 13 14 15 16 17 18 19 20 21 22 23 24\n",
      " 25 26 27 28 29 30 31 32 33 34 35 36 37 38 39 40 41 42 43 44 45 46 47 48\n",
      " 49 50]\n"
     ]
    },
    {
     "name": "stdin",
     "output_type": "stream",
     "text": [
      "Please enter the number you want to compare to: 25\n"
     ]
    },
    {
     "name": "stdout",
     "output_type": "stream",
     "text": [
      "The numbers less than 25 are [26, 27, 28, 29, 30, 31, 32, 33, 34, 35, 36, 37, 38, 39, 40, 41, 42, 43, 44, 45, 46, 47, 48, 49, 50]\n",
      "The numbers less than 25 are [1, 2, 3, 4, 5, 6, 7, 8, 9, 10, 11, 12, 13, 14, 15, 16, 17, 18, 19, 20, 21, 22, 23, 24]\n"
     ]
    }
   ],
   "source": [
    "a1=np.arange(1,51)\n",
    "a2=[]\n",
    "a3=[]\n",
    "print(a1)\n",
    "x=int(input(\"Please enter the number you want to compare to:\"))\n",
    "for i in a1:\n",
    "    if i>x:\n",
    "        a2.append(i)\n",
    "    elif i<x:\n",
    "        a3.append(i)\n",
    "print(\"The numbers less than\",x,\"are\",a2)\n",
    "print(\"The numbers less than\",x,\"are\",a3)\n",
    "    "
   ]
  }
 ],
 "metadata": {
  "kernelspec": {
   "display_name": "Python 3 (ipykernel)",
   "language": "python",
   "name": "python3"
  },
  "language_info": {
   "codemirror_mode": {
    "name": "ipython",
    "version": 3
   },
   "file_extension": ".py",
   "mimetype": "text/x-python",
   "name": "python",
   "nbconvert_exporter": "python",
   "pygments_lexer": "ipython3",
   "version": "3.9.12"
  }
 },
 "nbformat": 4,
 "nbformat_minor": 5
}

{
 "cells": [
  {
   "cell_type": "code",
   "execution_count": 1,
   "id": "edc71481-62dc-41d2-8df9-9f82a7c0dd00",
   "metadata": {},
   "outputs": [],
   "source": [
    "import numpy as np\n",
    "import pandas as pd\n",
    "import matplotlib.pyplot as plt\n",
    "import seaborn as sns\n",
    "import warnings\n",
    "warnings.filterwarnings('ignore')"
   ]
  },
  {
   "cell_type": "code",
   "execution_count": 2,
   "id": "2b18352f-ca80-4313-aa8f-322ac880a934",
   "metadata": {},
   "outputs": [],
   "source": [
    "data=pd.read_csv('Final Transactions.csv')"
   ]
  },
  {
   "cell_type": "code",
   "execution_count": 3,
   "id": "93f12007-de66-4430-beeb-c9c69b8536fa",
   "metadata": {},
   "outputs": [
    {
     "data": {
      "text/html": [
       "<div>\n",
       "<style scoped>\n",
       "    .dataframe tbody tr th:only-of-type {\n",
       "        vertical-align: middle;\n",
       "    }\n",
       "\n",
       "    .dataframe tbody tr th {\n",
       "        vertical-align: top;\n",
       "    }\n",
       "\n",
       "    .dataframe thead th {\n",
       "        text-align: right;\n",
       "    }\n",
       "</style>\n",
       "<table border=\"1\" class=\"dataframe\">\n",
       "  <thead>\n",
       "    <tr style=\"text-align: right;\">\n",
       "      <th></th>\n",
       "      <th>Unnamed: 0</th>\n",
       "      <th>TRANSACTION_ID</th>\n",
       "      <th>TX_DATETIME</th>\n",
       "      <th>CUSTOMER_ID</th>\n",
       "      <th>TERMINAL_ID</th>\n",
       "      <th>TX_AMOUNT</th>\n",
       "      <th>TX_TIME_SECONDS</th>\n",
       "      <th>TX_TIME_DAYS</th>\n",
       "      <th>TX_FRAUD</th>\n",
       "      <th>TX_FRAUD_SCENARIO</th>\n",
       "    </tr>\n",
       "  </thead>\n",
       "  <tbody>\n",
       "    <tr>\n",
       "      <th>0</th>\n",
       "      <td>0</td>\n",
       "      <td>0</td>\n",
       "      <td>2023-01-01 00:00:31</td>\n",
       "      <td>596</td>\n",
       "      <td>3156</td>\n",
       "      <td>533.07</td>\n",
       "      <td>31</td>\n",
       "      <td>0</td>\n",
       "      <td>0</td>\n",
       "      <td>0</td>\n",
       "    </tr>\n",
       "    <tr>\n",
       "      <th>1</th>\n",
       "      <td>1</td>\n",
       "      <td>1</td>\n",
       "      <td>2023-01-01 00:02:10</td>\n",
       "      <td>4961</td>\n",
       "      <td>3412</td>\n",
       "      <td>808.56</td>\n",
       "      <td>130</td>\n",
       "      <td>0</td>\n",
       "      <td>0</td>\n",
       "      <td>0</td>\n",
       "    </tr>\n",
       "    <tr>\n",
       "      <th>2</th>\n",
       "      <td>2</td>\n",
       "      <td>2</td>\n",
       "      <td>2023-01-01 00:07:56</td>\n",
       "      <td>2</td>\n",
       "      <td>1365</td>\n",
       "      <td>1442.94</td>\n",
       "      <td>476</td>\n",
       "      <td>0</td>\n",
       "      <td>1</td>\n",
       "      <td>1</td>\n",
       "    </tr>\n",
       "    <tr>\n",
       "      <th>3</th>\n",
       "      <td>3</td>\n",
       "      <td>3</td>\n",
       "      <td>2023-01-01 00:09:29</td>\n",
       "      <td>4128</td>\n",
       "      <td>8737</td>\n",
       "      <td>620.65</td>\n",
       "      <td>569</td>\n",
       "      <td>0</td>\n",
       "      <td>0</td>\n",
       "      <td>0</td>\n",
       "    </tr>\n",
       "    <tr>\n",
       "      <th>4</th>\n",
       "      <td>4</td>\n",
       "      <td>4</td>\n",
       "      <td>2023-01-01 00:10:34</td>\n",
       "      <td>927</td>\n",
       "      <td>9906</td>\n",
       "      <td>490.66</td>\n",
       "      <td>634</td>\n",
       "      <td>0</td>\n",
       "      <td>0</td>\n",
       "      <td>0</td>\n",
       "    </tr>\n",
       "    <tr>\n",
       "      <th>...</th>\n",
       "      <td>...</td>\n",
       "      <td>...</td>\n",
       "      <td>...</td>\n",
       "      <td>...</td>\n",
       "      <td>...</td>\n",
       "      <td>...</td>\n",
       "      <td>...</td>\n",
       "      <td>...</td>\n",
       "      <td>...</td>\n",
       "      <td>...</td>\n",
       "    </tr>\n",
       "    <tr>\n",
       "      <th>1754150</th>\n",
       "      <td>1754150</td>\n",
       "      <td>1754150</td>\n",
       "      <td>2023-07-02 23:56:36</td>\n",
       "      <td>161</td>\n",
       "      <td>655</td>\n",
       "      <td>531.43</td>\n",
       "      <td>15810996</td>\n",
       "      <td>182</td>\n",
       "      <td>0</td>\n",
       "      <td>0</td>\n",
       "    </tr>\n",
       "    <tr>\n",
       "      <th>1754151</th>\n",
       "      <td>1754151</td>\n",
       "      <td>1754151</td>\n",
       "      <td>2023-07-02 23:57:38</td>\n",
       "      <td>4342</td>\n",
       "      <td>6181</td>\n",
       "      <td>10.40</td>\n",
       "      <td>15811058</td>\n",
       "      <td>182</td>\n",
       "      <td>0</td>\n",
       "      <td>0</td>\n",
       "    </tr>\n",
       "    <tr>\n",
       "      <th>1754152</th>\n",
       "      <td>1754152</td>\n",
       "      <td>1754152</td>\n",
       "      <td>2023-07-02 23:58:21</td>\n",
       "      <td>618</td>\n",
       "      <td>1502</td>\n",
       "      <td>26.62</td>\n",
       "      <td>15811101</td>\n",
       "      <td>182</td>\n",
       "      <td>0</td>\n",
       "      <td>0</td>\n",
       "    </tr>\n",
       "    <tr>\n",
       "      <th>1754153</th>\n",
       "      <td>1754153</td>\n",
       "      <td>1754153</td>\n",
       "      <td>2023-07-02 23:59:52</td>\n",
       "      <td>4056</td>\n",
       "      <td>3067</td>\n",
       "      <td>550.43</td>\n",
       "      <td>15811192</td>\n",
       "      <td>182</td>\n",
       "      <td>0</td>\n",
       "      <td>0</td>\n",
       "    </tr>\n",
       "    <tr>\n",
       "      <th>1754154</th>\n",
       "      <td>1754154</td>\n",
       "      <td>1754154</td>\n",
       "      <td>2023-07-02 23:59:57</td>\n",
       "      <td>3542</td>\n",
       "      <td>9849</td>\n",
       "      <td>216.57</td>\n",
       "      <td>15811197</td>\n",
       "      <td>182</td>\n",
       "      <td>0</td>\n",
       "      <td>0</td>\n",
       "    </tr>\n",
       "  </tbody>\n",
       "</table>\n",
       "<p>1754155 rows × 10 columns</p>\n",
       "</div>"
      ],
      "text/plain": [
       "         Unnamed: 0  TRANSACTION_ID          TX_DATETIME  CUSTOMER_ID  \\\n",
       "0                 0               0  2023-01-01 00:00:31          596   \n",
       "1                 1               1  2023-01-01 00:02:10         4961   \n",
       "2                 2               2  2023-01-01 00:07:56            2   \n",
       "3                 3               3  2023-01-01 00:09:29         4128   \n",
       "4                 4               4  2023-01-01 00:10:34          927   \n",
       "...             ...             ...                  ...          ...   \n",
       "1754150     1754150         1754150  2023-07-02 23:56:36          161   \n",
       "1754151     1754151         1754151  2023-07-02 23:57:38         4342   \n",
       "1754152     1754152         1754152  2023-07-02 23:58:21          618   \n",
       "1754153     1754153         1754153  2023-07-02 23:59:52         4056   \n",
       "1754154     1754154         1754154  2023-07-02 23:59:57         3542   \n",
       "\n",
       "         TERMINAL_ID  TX_AMOUNT  TX_TIME_SECONDS  TX_TIME_DAYS  TX_FRAUD  \\\n",
       "0               3156     533.07               31             0         0   \n",
       "1               3412     808.56              130             0         0   \n",
       "2               1365    1442.94              476             0         1   \n",
       "3               8737     620.65              569             0         0   \n",
       "4               9906     490.66              634             0         0   \n",
       "...              ...        ...              ...           ...       ...   \n",
       "1754150          655     531.43         15810996           182         0   \n",
       "1754151         6181      10.40         15811058           182         0   \n",
       "1754152         1502      26.62         15811101           182         0   \n",
       "1754153         3067     550.43         15811192           182         0   \n",
       "1754154         9849     216.57         15811197           182         0   \n",
       "\n",
       "         TX_FRAUD_SCENARIO  \n",
       "0                        0  \n",
       "1                        0  \n",
       "2                        1  \n",
       "3                        0  \n",
       "4                        0  \n",
       "...                    ...  \n",
       "1754150                  0  \n",
       "1754151                  0  \n",
       "1754152                  0  \n",
       "1754153                  0  \n",
       "1754154                  0  \n",
       "\n",
       "[1754155 rows x 10 columns]"
      ]
     },
     "execution_count": 3,
     "metadata": {},
     "output_type": "execute_result"
    }
   ],
   "source": [
    "data"
   ]
  },
  {
   "cell_type": "code",
   "execution_count": 4,
   "id": "adbedda0-0928-41b6-a7cf-37556c103d0a",
   "metadata": {},
   "outputs": [
    {
     "data": {
      "text/plain": [
       "0"
      ]
     },
     "execution_count": 4,
     "metadata": {},
     "output_type": "execute_result"
    }
   ],
   "source": [
    "data.duplicated().sum()"
   ]
  },
  {
   "cell_type": "code",
   "execution_count": 5,
   "id": "5345cc51-6b16-4c8f-ad12-9ec15b07ebbd",
   "metadata": {},
   "outputs": [
    {
     "data": {
      "text/plain": [
       "Unnamed: 0           0\n",
       "TRANSACTION_ID       0\n",
       "TX_DATETIME          0\n",
       "CUSTOMER_ID          0\n",
       "TERMINAL_ID          0\n",
       "TX_AMOUNT            0\n",
       "TX_TIME_SECONDS      0\n",
       "TX_TIME_DAYS         0\n",
       "TX_FRAUD             0\n",
       "TX_FRAUD_SCENARIO    0\n",
       "dtype: int64"
      ]
     },
     "execution_count": 5,
     "metadata": {},
     "output_type": "execute_result"
    }
   ],
   "source": [
    "data.isna().sum()"
   ]
  },
  {
   "cell_type": "code",
   "execution_count": 6,
   "id": "bcf38bda-899c-488a-8120-a33c23b64a81",
   "metadata": {},
   "outputs": [],
   "source": [
    "data.drop(['Unnamed: 0','TRANSACTION_ID'],axis=1,inplace=True)"
   ]
  },
  {
   "cell_type": "code",
   "execution_count": 7,
   "id": "f99f5f7c-c341-4d83-9967-54d2f93aa24c",
   "metadata": {},
   "outputs": [
    {
     "data": {
      "text/html": [
       "<div>\n",
       "<style scoped>\n",
       "    .dataframe tbody tr th:only-of-type {\n",
       "        vertical-align: middle;\n",
       "    }\n",
       "\n",
       "    .dataframe tbody tr th {\n",
       "        vertical-align: top;\n",
       "    }\n",
       "\n",
       "    .dataframe thead th {\n",
       "        text-align: right;\n",
       "    }\n",
       "</style>\n",
       "<table border=\"1\" class=\"dataframe\">\n",
       "  <thead>\n",
       "    <tr style=\"text-align: right;\">\n",
       "      <th></th>\n",
       "      <th>TX_DATETIME</th>\n",
       "      <th>CUSTOMER_ID</th>\n",
       "      <th>TERMINAL_ID</th>\n",
       "      <th>TX_AMOUNT</th>\n",
       "      <th>TX_TIME_SECONDS</th>\n",
       "      <th>TX_TIME_DAYS</th>\n",
       "      <th>TX_FRAUD</th>\n",
       "      <th>TX_FRAUD_SCENARIO</th>\n",
       "    </tr>\n",
       "  </thead>\n",
       "  <tbody>\n",
       "    <tr>\n",
       "      <th>0</th>\n",
       "      <td>2023-01-01 00:00:31</td>\n",
       "      <td>596</td>\n",
       "      <td>3156</td>\n",
       "      <td>533.07</td>\n",
       "      <td>31</td>\n",
       "      <td>0</td>\n",
       "      <td>0</td>\n",
       "      <td>0</td>\n",
       "    </tr>\n",
       "    <tr>\n",
       "      <th>1</th>\n",
       "      <td>2023-01-01 00:02:10</td>\n",
       "      <td>4961</td>\n",
       "      <td>3412</td>\n",
       "      <td>808.56</td>\n",
       "      <td>130</td>\n",
       "      <td>0</td>\n",
       "      <td>0</td>\n",
       "      <td>0</td>\n",
       "    </tr>\n",
       "    <tr>\n",
       "      <th>2</th>\n",
       "      <td>2023-01-01 00:07:56</td>\n",
       "      <td>2</td>\n",
       "      <td>1365</td>\n",
       "      <td>1442.94</td>\n",
       "      <td>476</td>\n",
       "      <td>0</td>\n",
       "      <td>1</td>\n",
       "      <td>1</td>\n",
       "    </tr>\n",
       "    <tr>\n",
       "      <th>3</th>\n",
       "      <td>2023-01-01 00:09:29</td>\n",
       "      <td>4128</td>\n",
       "      <td>8737</td>\n",
       "      <td>620.65</td>\n",
       "      <td>569</td>\n",
       "      <td>0</td>\n",
       "      <td>0</td>\n",
       "      <td>0</td>\n",
       "    </tr>\n",
       "    <tr>\n",
       "      <th>4</th>\n",
       "      <td>2023-01-01 00:10:34</td>\n",
       "      <td>927</td>\n",
       "      <td>9906</td>\n",
       "      <td>490.66</td>\n",
       "      <td>634</td>\n",
       "      <td>0</td>\n",
       "      <td>0</td>\n",
       "      <td>0</td>\n",
       "    </tr>\n",
       "    <tr>\n",
       "      <th>...</th>\n",
       "      <td>...</td>\n",
       "      <td>...</td>\n",
       "      <td>...</td>\n",
       "      <td>...</td>\n",
       "      <td>...</td>\n",
       "      <td>...</td>\n",
       "      <td>...</td>\n",
       "      <td>...</td>\n",
       "    </tr>\n",
       "    <tr>\n",
       "      <th>1754150</th>\n",
       "      <td>2023-07-02 23:56:36</td>\n",
       "      <td>161</td>\n",
       "      <td>655</td>\n",
       "      <td>531.43</td>\n",
       "      <td>15810996</td>\n",
       "      <td>182</td>\n",
       "      <td>0</td>\n",
       "      <td>0</td>\n",
       "    </tr>\n",
       "    <tr>\n",
       "      <th>1754151</th>\n",
       "      <td>2023-07-02 23:57:38</td>\n",
       "      <td>4342</td>\n",
       "      <td>6181</td>\n",
       "      <td>10.40</td>\n",
       "      <td>15811058</td>\n",
       "      <td>182</td>\n",
       "      <td>0</td>\n",
       "      <td>0</td>\n",
       "    </tr>\n",
       "    <tr>\n",
       "      <th>1754152</th>\n",
       "      <td>2023-07-02 23:58:21</td>\n",
       "      <td>618</td>\n",
       "      <td>1502</td>\n",
       "      <td>26.62</td>\n",
       "      <td>15811101</td>\n",
       "      <td>182</td>\n",
       "      <td>0</td>\n",
       "      <td>0</td>\n",
       "    </tr>\n",
       "    <tr>\n",
       "      <th>1754153</th>\n",
       "      <td>2023-07-02 23:59:52</td>\n",
       "      <td>4056</td>\n",
       "      <td>3067</td>\n",
       "      <td>550.43</td>\n",
       "      <td>15811192</td>\n",
       "      <td>182</td>\n",
       "      <td>0</td>\n",
       "      <td>0</td>\n",
       "    </tr>\n",
       "    <tr>\n",
       "      <th>1754154</th>\n",
       "      <td>2023-07-02 23:59:57</td>\n",
       "      <td>3542</td>\n",
       "      <td>9849</td>\n",
       "      <td>216.57</td>\n",
       "      <td>15811197</td>\n",
       "      <td>182</td>\n",
       "      <td>0</td>\n",
       "      <td>0</td>\n",
       "    </tr>\n",
       "  </tbody>\n",
       "</table>\n",
       "<p>1754155 rows × 8 columns</p>\n",
       "</div>"
      ],
      "text/plain": [
       "                 TX_DATETIME  CUSTOMER_ID  TERMINAL_ID  TX_AMOUNT  \\\n",
       "0        2023-01-01 00:00:31          596         3156     533.07   \n",
       "1        2023-01-01 00:02:10         4961         3412     808.56   \n",
       "2        2023-01-01 00:07:56            2         1365    1442.94   \n",
       "3        2023-01-01 00:09:29         4128         8737     620.65   \n",
       "4        2023-01-01 00:10:34          927         9906     490.66   \n",
       "...                      ...          ...          ...        ...   \n",
       "1754150  2023-07-02 23:56:36          161          655     531.43   \n",
       "1754151  2023-07-02 23:57:38         4342         6181      10.40   \n",
       "1754152  2023-07-02 23:58:21          618         1502      26.62   \n",
       "1754153  2023-07-02 23:59:52         4056         3067     550.43   \n",
       "1754154  2023-07-02 23:59:57         3542         9849     216.57   \n",
       "\n",
       "         TX_TIME_SECONDS  TX_TIME_DAYS  TX_FRAUD  TX_FRAUD_SCENARIO  \n",
       "0                     31             0         0                  0  \n",
       "1                    130             0         0                  0  \n",
       "2                    476             0         1                  1  \n",
       "3                    569             0         0                  0  \n",
       "4                    634             0         0                  0  \n",
       "...                  ...           ...       ...                ...  \n",
       "1754150         15810996           182         0                  0  \n",
       "1754151         15811058           182         0                  0  \n",
       "1754152         15811101           182         0                  0  \n",
       "1754153         15811192           182         0                  0  \n",
       "1754154         15811197           182         0                  0  \n",
       "\n",
       "[1754155 rows x 8 columns]"
      ]
     },
     "execution_count": 7,
     "metadata": {},
     "output_type": "execute_result"
    }
   ],
   "source": [
    "data"
   ]
  },
  {
   "cell_type": "code",
   "execution_count": 8,
   "id": "2ddd22d1-48f3-4b72-bac8-f7db5ff48695",
   "metadata": {},
   "outputs": [
    {
     "name": "stdout",
     "output_type": "stream",
     "text": [
      "<class 'pandas.core.frame.DataFrame'>\n",
      "RangeIndex: 1754155 entries, 0 to 1754154\n",
      "Data columns (total 8 columns):\n",
      " #   Column             Dtype  \n",
      "---  ------             -----  \n",
      " 0   TX_DATETIME        object \n",
      " 1   CUSTOMER_ID        int64  \n",
      " 2   TERMINAL_ID        int64  \n",
      " 3   TX_AMOUNT          float64\n",
      " 4   TX_TIME_SECONDS    int64  \n",
      " 5   TX_TIME_DAYS       int64  \n",
      " 6   TX_FRAUD           int64  \n",
      " 7   TX_FRAUD_SCENARIO  int64  \n",
      "dtypes: float64(1), int64(6), object(1)\n",
      "memory usage: 107.1+ MB\n"
     ]
    }
   ],
   "source": [
    "data.info()"
   ]
  },
  {
   "cell_type": "code",
   "execution_count": 9,
   "id": "8000b87f-8b42-4afd-a230-0e604728c379",
   "metadata": {},
   "outputs": [
    {
     "data": {
      "text/plain": [
       "0    1518186\n",
       "1     222261\n",
       "2       9077\n",
       "3       4631\n",
       "Name: TX_FRAUD_SCENARIO, dtype: int64"
      ]
     },
     "execution_count": 9,
     "metadata": {},
     "output_type": "execute_result"
    }
   ],
   "source": [
    "data['TX_FRAUD_SCENARIO'].value_counts()"
   ]
  },
  {
   "cell_type": "code",
   "execution_count": 10,
   "id": "51847a52-2e42-45e8-8d56-5674bcb88b24",
   "metadata": {},
   "outputs": [
    {
     "data": {
      "text/plain": [
       "0    1518186\n",
       "1     235969\n",
       "Name: TX_FRAUD, dtype: int64"
      ]
     },
     "execution_count": 10,
     "metadata": {},
     "output_type": "execute_result"
    }
   ],
   "source": [
    "data['TX_FRAUD'].value_counts()"
   ]
  },
  {
   "cell_type": "code",
   "execution_count": 11,
   "id": "3240543c-0689-4969-bb6f-521706daea2c",
   "metadata": {},
   "outputs": [],
   "source": [
    "data.drop(['TX_FRAUD_SCENARIO'],axis=1,inplace=True)\n",
    "data.drop(['TX_DATETIME'],axis=1,inplace=True)"
   ]
  },
  {
   "cell_type": "code",
   "execution_count": 12,
   "id": "4649af52-0f96-4edf-8b09-04860dcff7e4",
   "metadata": {},
   "outputs": [
    {
     "data": {
      "text/plain": [
       "<AxesSubplot:>"
      ]
     },
     "execution_count": 12,
     "metadata": {},
     "output_type": "execute_result"
    },
    {
     "data": {
      "image/png": "[encoded data removed]",
      "text/plain": [
       "<Figure size 432x288 with 2 Axes>"
      ]
     },
     "metadata": {
      "needs_background": "light"
     },
     "output_type": "display_data"
    }
   ],
   "source": [
    "sns.heatmap(data.corr(),annot=True)"
   ]
  },
  {
   "cell_type": "markdown",
   "id": "95306f01-8de2-4ce4-af6d-297bdf0be587",
   "metadata": {
    "jp-MarkdownHeadingCollapsed": true,
    "tags": []
   },
   "source": [
    "## Decision Tree"
   ]
  },
  {
   "cell_type": "code",
   "execution_count": 25,
   "id": "0ab3cc84-a905-41cf-9588-6240b9dcd21a",
   "metadata": {},
   "outputs": [],
   "source": [
    "x=data.drop('TX_FRAUD',axis=1)\n",
    "y=data['TX_FRAUD']\n",
    "from sklearn.model_selection import train_test_split\n",
    "train_x,test_x,train_y,test_y=train_test_split(x,y,test_size=0.1)\n",
    "from sklearn.tree import DecisionTreeClassifier\n",
    "model=DecisionTreeClassifier()\n",
    "model.fit(train_x,train_y)\n",
    "y_pred=model.predict(test_x)"
   ]
  },
  {
   "cell_type": "code",
   "execution_count": 26,
   "id": "9f4679f6-0293-46cd-9421-ef75c354604b",
   "metadata": {},
   "outputs": [
    {
     "name": "stdout",
     "output_type": "stream",
     "text": [
      "acc: 0.9988997582888676\n",
      "precision: 0.9958856555093644\n",
      "recall: 0.9958429759149738\n",
      "f1_score: 0.9958643152548909\n"
     ]
    }
   ],
   "source": [
    "from sklearn.metrics import accuracy_score,precision_score,recall_score,f1_score\n",
    "print(\"acc:\",accuracy_score(y_pred,test_y))\n",
    "print(\"precision:\",precision_score(y_pred,test_y))\n",
    "print(\"recall:\",recall_score(y_pred,test_y))\n",
    "print(\"f1_score:\",f1_score(y_pred,test_y))"
   ]
  },
  {
   "cell_type": "code",
   "execution_count": 27,
   "id": "b1a452fe-054e-42dd-ab0b-8e2cb5f2d253",
   "metadata": {},
   "outputs": [
    {
     "name": "stdout",
     "output_type": "stream",
     "text": [
      "acc: 1.0\n",
      "precision: 1.0\n",
      "recall: 1.0\n",
      "f1_score: 1.0\n"
     ]
    }
   ],
   "source": [
    "y_pred=model.predict(train_x)\n",
    "print(\"acc:\",accuracy_score(y_pred,train_y))\n",
    "print(\"precision:\",precision_score(y_pred,train_y))\n",
    "print(\"recall:\",recall_score(y_pred,train_y))\n",
    "print(\"f1_score:\",f1_score(y_pred,train_y))"
   ]
  },
  {
   "cell_type": "markdown",
   "id": "9af1df92-7f7a-4456-a69a-c4434a9117a8",
   "metadata": {
    "tags": []
   },
   "source": [
    "## AdaBoost"
   ]
  },
  {
   "cell_type": "code",
   "execution_count": 22,
   "id": "d7685127-9b43-478c-b00a-7b0a559fa4b4",
   "metadata": {},
   "outputs": [],
   "source": [
    "from sklearn.ensemble import AdaBoostClassifier\n",
    "from sklearn.tree import DecisionTreeClassifier\n",
    "model=AdaBoostClassifier(base_estimator=DecisionTreeClassifier(max_depth=1))\n",
    "model.fit(train_x,train_y)\n",
    "y_pred=model.predict(test_x)"
   ]
  },
  {
   "cell_type": "code",
   "execution_count": 23,
   "id": "18098fe8-1c8a-430f-bc5b-49e5ff07912f",
   "metadata": {},
   "outputs": [
    {
     "name": "stdout",
     "output_type": "stream",
     "text": [
      "acc: 0.995485018470379\n",
      "precision: 0.9663107745969629\n",
      "recall: 1.0\n",
      "f1_score: 0.9828667849262319\n"
     ]
    }
   ],
   "source": [
    "from sklearn.metrics import accuracy_score,precision_score,recall_score,f1_score\n",
    "print(\"acc:\",accuracy_score(y_pred,test_y))\n",
    "print(\"precision:\",precision_score(y_pred,test_y))\n",
    "print(\"recall:\",recall_score(y_pred,test_y))\n",
    "print(\"f1_score:\",f1_score(y_pred,test_y))"
   ]
  },
  {
   "cell_type": "code",
   "execution_count": 24,
   "id": "1d4f4d19-9ac7-46c3-921e-1bb06f9f2171",
   "metadata": {},
   "outputs": [
    {
     "name": "stdout",
     "output_type": "stream",
     "text": [
      "acc: 0.995301313263307\n",
      "precision: 0.9650851925068248\n",
      "recall: 1.0\n",
      "f1_score: 0.9822324204434948\n"
     ]
    }
   ],
   "source": [
    "y_pred=model.predict(train_x)\n",
    "print(\"acc:\",accuracy_score(y_pred,train_y))\n",
    "print(\"precision:\",precision_score(y_pred,train_y))\n",
    "print(\"recall:\",recall_score(y_pred,train_y))\n",
    "print(\"f1_score:\",f1_score(y_pred,train_y))"
   ]
  },
  {
   "cell_type": "code",
   "execution_count": null,
   "id": "2458be2d-a9bc-427c-a409-4da7786bb4b9",
   "metadata": {},
   "outputs": [],
   "source": []
  }
 ],
 "metadata": {
  "kernelspec": {
   "display_name": "Python 3 (ipykernel)",
   "language": "python",
   "name": "python3"
  },
  "language_info": {
   "codemirror_mode": {
    "name": "ipython",
    "version": 3
   },
   "file_extension": ".py",
   "mimetype": "text/x-python",
   "name": "python",
   "nbconvert_exporter": "python",
   "pygments_lexer": "ipython3",
   "version": "3.9.12"
  }
 },
 "nbformat": 4,
 "nbformat_minor": 5
}

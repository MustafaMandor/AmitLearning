{
 "cells": [
  {
   "cell_type": "code",
   "execution_count": 1,
   "id": "893eff37-2cad-497d-9bf1-fb785f0c6457",
   "metadata": {},
   "outputs": [],
   "source": [
    "import pandas as pd\n",
    "import numpy as np\n",
    "import matplotlib.pyplot as plt\n",
    "import seaborn as sns\n",
    "import warnings\n",
    "warnings.filterwarnings('ignore')\n",
    "from sklearn.preprocessing import StandardScaler\n",
    "from sklearn.model_selection import train_test_split\n",
    "from sklearn.linear_model import LinearRegression"
   ]
  },
  {
   "cell_type": "markdown",
   "id": "e9949274-1e13-46d3-89fa-ac4b10e35e2c",
   "metadata": {
    "jp-MarkdownHeadingCollapsed": true,
    "tags": []
   },
   "source": [
    "## Data Preprocessing"
   ]
  },
  {
   "cell_type": "code",
   "execution_count": 2,
   "id": "68a0198d-6f65-4a5f-b673-d2a6f12e4569",
   "metadata": {},
   "outputs": [],
   "source": [
    "data=pd.read_csv('Automobile_data.csv')"
   ]
  },
  {
   "cell_type": "code",
   "execution_count": 3,
   "id": "337555ad-02f3-47df-abfa-a3ff3dfb79cd",
   "metadata": {},
   "outputs": [
    {
     "data": {
      "text/html": [
       "<div>\n",
       "<style scoped>\n",
       "    .dataframe tbody tr th:only-of-type {\n",
       "        vertical-align: middle;\n",
       "    }\n",
       "\n",
       "    .dataframe tbody tr th {\n",
       "        vertical-align: top;\n",
       "    }\n",
       "\n",
       "    .dataframe thead th {\n",
       "        text-align: right;\n",
       "    }\n",
       "</style>\n",
       "<table border=\"1\" class=\"dataframe\">\n",
       "  <thead>\n",
       "    <tr style=\"text-align: right;\">\n",
       "      <th></th>\n",
       "      <th>symboling</th>\n",
       "      <th>normalized-losses</th>\n",
       "      <th>make</th>\n",
       "      <th>fuel-type</th>\n",
       "      <th>aspiration</th>\n",
       "      <th>num-of-doors</th>\n",
       "      <th>body-style</th>\n",
       "      <th>drive-wheels</th>\n",
       "      <th>engine-location</th>\n",
       "      <th>wheel-base</th>\n",
       "      <th>...</th>\n",
       "      <th>engine-size</th>\n",
       "      <th>fuel-system</th>\n",
       "      <th>bore</th>\n",
       "      <th>stroke</th>\n",
       "      <th>compression-ratio</th>\n",
       "      <th>horsepower</th>\n",
       "      <th>peak-rpm</th>\n",
       "      <th>city-mpg</th>\n",
       "      <th>highway-mpg</th>\n",
       "      <th>price</th>\n",
       "    </tr>\n",
       "  </thead>\n",
       "  <tbody>\n",
       "    <tr>\n",
       "      <th>0</th>\n",
       "      <td>3</td>\n",
       "      <td>?</td>\n",
       "      <td>alfa-romero</td>\n",
       "      <td>gas</td>\n",
       "      <td>std</td>\n",
       "      <td>two</td>\n",
       "      <td>convertible</td>\n",
       "      <td>rwd</td>\n",
       "      <td>front</td>\n",
       "      <td>88.6</td>\n",
       "      <td>...</td>\n",
       "      <td>130</td>\n",
       "      <td>mpfi</td>\n",
       "      <td>3.47</td>\n",
       "      <td>2.68</td>\n",
       "      <td>9.0</td>\n",
       "      <td>111</td>\n",
       "      <td>5000</td>\n",
       "      <td>21</td>\n",
       "      <td>27</td>\n",
       "      <td>13495</td>\n",
       "    </tr>\n",
       "    <tr>\n",
       "      <th>1</th>\n",
       "      <td>3</td>\n",
       "      <td>?</td>\n",
       "      <td>alfa-romero</td>\n",
       "      <td>gas</td>\n",
       "      <td>std</td>\n",
       "      <td>two</td>\n",
       "      <td>convertible</td>\n",
       "      <td>rwd</td>\n",
       "      <td>front</td>\n",
       "      <td>88.6</td>\n",
       "      <td>...</td>\n",
       "      <td>130</td>\n",
       "      <td>mpfi</td>\n",
       "      <td>3.47</td>\n",
       "      <td>2.68</td>\n",
       "      <td>9.0</td>\n",
       "      <td>111</td>\n",
       "      <td>5000</td>\n",
       "      <td>21</td>\n",
       "      <td>27</td>\n",
       "      <td>16500</td>\n",
       "    </tr>\n",
       "    <tr>\n",
       "      <th>2</th>\n",
       "      <td>1</td>\n",
       "      <td>?</td>\n",
       "      <td>alfa-romero</td>\n",
       "      <td>gas</td>\n",
       "      <td>std</td>\n",
       "      <td>two</td>\n",
       "      <td>hatchback</td>\n",
       "      <td>rwd</td>\n",
       "      <td>front</td>\n",
       "      <td>94.5</td>\n",
       "      <td>...</td>\n",
       "      <td>152</td>\n",
       "      <td>mpfi</td>\n",
       "      <td>2.68</td>\n",
       "      <td>3.47</td>\n",
       "      <td>9.0</td>\n",
       "      <td>154</td>\n",
       "      <td>5000</td>\n",
       "      <td>19</td>\n",
       "      <td>26</td>\n",
       "      <td>16500</td>\n",
       "    </tr>\n",
       "    <tr>\n",
       "      <th>3</th>\n",
       "      <td>2</td>\n",
       "      <td>164</td>\n",
       "      <td>audi</td>\n",
       "      <td>gas</td>\n",
       "      <td>std</td>\n",
       "      <td>four</td>\n",
       "      <td>sedan</td>\n",
       "      <td>fwd</td>\n",
       "      <td>front</td>\n",
       "      <td>99.8</td>\n",
       "      <td>...</td>\n",
       "      <td>109</td>\n",
       "      <td>mpfi</td>\n",
       "      <td>3.19</td>\n",
       "      <td>3.4</td>\n",
       "      <td>10.0</td>\n",
       "      <td>102</td>\n",
       "      <td>5500</td>\n",
       "      <td>24</td>\n",
       "      <td>30</td>\n",
       "      <td>13950</td>\n",
       "    </tr>\n",
       "    <tr>\n",
       "      <th>4</th>\n",
       "      <td>2</td>\n",
       "      <td>164</td>\n",
       "      <td>audi</td>\n",
       "      <td>gas</td>\n",
       "      <td>std</td>\n",
       "      <td>four</td>\n",
       "      <td>sedan</td>\n",
       "      <td>4wd</td>\n",
       "      <td>front</td>\n",
       "      <td>99.4</td>\n",
       "      <td>...</td>\n",
       "      <td>136</td>\n",
       "      <td>mpfi</td>\n",
       "      <td>3.19</td>\n",
       "      <td>3.4</td>\n",
       "      <td>8.0</td>\n",
       "      <td>115</td>\n",
       "      <td>5500</td>\n",
       "      <td>18</td>\n",
       "      <td>22</td>\n",
       "      <td>17450</td>\n",
       "    </tr>\n",
       "  </tbody>\n",
       "</table>\n",
       "<p>5 rows × 26 columns</p>\n",
       "</div>"
      ],
      "text/plain": [
       "   symboling normalized-losses         make fuel-type aspiration num-of-doors  \\\n",
       "0          3                 ?  alfa-romero       gas        std          two   \n",
       "1          3                 ?  alfa-romero       gas        std          two   \n",
       "2          1                 ?  alfa-romero       gas        std          two   \n",
       "3          2               164         audi       gas        std         four   \n",
       "4          2               164         audi       gas        std         four   \n",
       "\n",
       "    body-style drive-wheels engine-location  wheel-base  ...  engine-size  \\\n",
       "0  convertible          rwd           front        88.6  ...          130   \n",
       "1  convertible          rwd           front        88.6  ...          130   \n",
       "2    hatchback          rwd           front        94.5  ...          152   \n",
       "3        sedan          fwd           front        99.8  ...          109   \n",
       "4        sedan          4wd           front        99.4  ...          136   \n",
       "\n",
       "   fuel-system  bore  stroke compression-ratio horsepower  peak-rpm city-mpg  \\\n",
       "0         mpfi  3.47    2.68               9.0        111      5000       21   \n",
       "1         mpfi  3.47    2.68               9.0        111      5000       21   \n",
       "2         mpfi  2.68    3.47               9.0        154      5000       19   \n",
       "3         mpfi  3.19     3.4              10.0        102      5500       24   \n",
       "4         mpfi  3.19     3.4               8.0        115      5500       18   \n",
       "\n",
       "  highway-mpg  price  \n",
       "0          27  13495  \n",
       "1          27  16500  \n",
       "2          26  16500  \n",
       "3          30  13950  \n",
       "4          22  17450  \n",
       "\n",
       "[5 rows x 26 columns]"
      ]
     },
     "execution_count": 3,
     "metadata": {},
     "output_type": "execute_result"
    }
   ],
   "source": [
    "data.head()"
   ]
  },
  {
   "cell_type": "code",
   "execution_count": 4,
   "id": "ebf60908-d06d-49cc-851c-0aad137bc5c9",
   "metadata": {},
   "outputs": [],
   "source": [
    "data.replace('?',np.nan,inplace=True)"
   ]
  },
  {
   "cell_type": "code",
   "execution_count": 5,
   "id": "038a773a-13c6-4896-bf43-2924a3433099",
   "metadata": {},
   "outputs": [
    {
     "data": {
      "text/html": [
       "<div>\n",
       "<style scoped>\n",
       "    .dataframe tbody tr th:only-of-type {\n",
       "        vertical-align: middle;\n",
       "    }\n",
       "\n",
       "    .dataframe tbody tr th {\n",
       "        vertical-align: top;\n",
       "    }\n",
       "\n",
       "    .dataframe thead th {\n",
       "        text-align: right;\n",
       "    }\n",
       "</style>\n",
       "<table border=\"1\" class=\"dataframe\">\n",
       "  <thead>\n",
       "    <tr style=\"text-align: right;\">\n",
       "      <th></th>\n",
       "      <th>symboling</th>\n",
       "      <th>normalized-losses</th>\n",
       "      <th>make</th>\n",
       "      <th>fuel-type</th>\n",
       "      <th>aspiration</th>\n",
       "      <th>num-of-doors</th>\n",
       "      <th>body-style</th>\n",
       "      <th>drive-wheels</th>\n",
       "      <th>engine-location</th>\n",
       "      <th>wheel-base</th>\n",
       "      <th>...</th>\n",
       "      <th>engine-size</th>\n",
       "      <th>fuel-system</th>\n",
       "      <th>bore</th>\n",
       "      <th>stroke</th>\n",
       "      <th>compression-ratio</th>\n",
       "      <th>horsepower</th>\n",
       "      <th>peak-rpm</th>\n",
       "      <th>city-mpg</th>\n",
       "      <th>highway-mpg</th>\n",
       "      <th>price</th>\n",
       "    </tr>\n",
       "  </thead>\n",
       "  <tbody>\n",
       "    <tr>\n",
       "      <th>0</th>\n",
       "      <td>3</td>\n",
       "      <td>NaN</td>\n",
       "      <td>alfa-romero</td>\n",
       "      <td>gas</td>\n",
       "      <td>std</td>\n",
       "      <td>two</td>\n",
       "      <td>convertible</td>\n",
       "      <td>rwd</td>\n",
       "      <td>front</td>\n",
       "      <td>88.6</td>\n",
       "      <td>...</td>\n",
       "      <td>130</td>\n",
       "      <td>mpfi</td>\n",
       "      <td>3.47</td>\n",
       "      <td>2.68</td>\n",
       "      <td>9.0</td>\n",
       "      <td>111</td>\n",
       "      <td>5000</td>\n",
       "      <td>21</td>\n",
       "      <td>27</td>\n",
       "      <td>13495</td>\n",
       "    </tr>\n",
       "    <tr>\n",
       "      <th>1</th>\n",
       "      <td>3</td>\n",
       "      <td>NaN</td>\n",
       "      <td>alfa-romero</td>\n",
       "      <td>gas</td>\n",
       "      <td>std</td>\n",
       "      <td>two</td>\n",
       "      <td>convertible</td>\n",
       "      <td>rwd</td>\n",
       "      <td>front</td>\n",
       "      <td>88.6</td>\n",
       "      <td>...</td>\n",
       "      <td>130</td>\n",
       "      <td>mpfi</td>\n",
       "      <td>3.47</td>\n",
       "      <td>2.68</td>\n",
       "      <td>9.0</td>\n",
       "      <td>111</td>\n",
       "      <td>5000</td>\n",
       "      <td>21</td>\n",
       "      <td>27</td>\n",
       "      <td>16500</td>\n",
       "    </tr>\n",
       "    <tr>\n",
       "      <th>2</th>\n",
       "      <td>1</td>\n",
       "      <td>NaN</td>\n",
       "      <td>alfa-romero</td>\n",
       "      <td>gas</td>\n",
       "      <td>std</td>\n",
       "      <td>two</td>\n",
       "      <td>hatchback</td>\n",
       "      <td>rwd</td>\n",
       "      <td>front</td>\n",
       "      <td>94.5</td>\n",
       "      <td>...</td>\n",
       "      <td>152</td>\n",
       "      <td>mpfi</td>\n",
       "      <td>2.68</td>\n",
       "      <td>3.47</td>\n",
       "      <td>9.0</td>\n",
       "      <td>154</td>\n",
       "      <td>5000</td>\n",
       "      <td>19</td>\n",
       "      <td>26</td>\n",
       "      <td>16500</td>\n",
       "    </tr>\n",
       "    <tr>\n",
       "      <th>3</th>\n",
       "      <td>2</td>\n",
       "      <td>164</td>\n",
       "      <td>audi</td>\n",
       "      <td>gas</td>\n",
       "      <td>std</td>\n",
       "      <td>four</td>\n",
       "      <td>sedan</td>\n",
       "      <td>fwd</td>\n",
       "      <td>front</td>\n",
       "      <td>99.8</td>\n",
       "      <td>...</td>\n",
       "      <td>109</td>\n",
       "      <td>mpfi</td>\n",
       "      <td>3.19</td>\n",
       "      <td>3.4</td>\n",
       "      <td>10.0</td>\n",
       "      <td>102</td>\n",
       "      <td>5500</td>\n",
       "      <td>24</td>\n",
       "      <td>30</td>\n",
       "      <td>13950</td>\n",
       "    </tr>\n",
       "    <tr>\n",
       "      <th>4</th>\n",
       "      <td>2</td>\n",
       "      <td>164</td>\n",
       "      <td>audi</td>\n",
       "      <td>gas</td>\n",
       "      <td>std</td>\n",
       "      <td>four</td>\n",
       "      <td>sedan</td>\n",
       "      <td>4wd</td>\n",
       "      <td>front</td>\n",
       "      <td>99.4</td>\n",
       "      <td>...</td>\n",
       "      <td>136</td>\n",
       "      <td>mpfi</td>\n",
       "      <td>3.19</td>\n",
       "      <td>3.4</td>\n",
       "      <td>8.0</td>\n",
       "      <td>115</td>\n",
       "      <td>5500</td>\n",
       "      <td>18</td>\n",
       "      <td>22</td>\n",
       "      <td>17450</td>\n",
       "    </tr>\n",
       "  </tbody>\n",
       "</table>\n",
       "<p>5 rows × 26 columns</p>\n",
       "</div>"
      ],
      "text/plain": [
       "   symboling normalized-losses         make fuel-type aspiration num-of-doors  \\\n",
       "0          3               NaN  alfa-romero       gas        std          two   \n",
       "1          3               NaN  alfa-romero       gas        std          two   \n",
       "2          1               NaN  alfa-romero       gas        std          two   \n",
       "3          2               164         audi       gas        std         four   \n",
       "4          2               164         audi       gas        std         four   \n",
       "\n",
       "    body-style drive-wheels engine-location  wheel-base  ...  engine-size  \\\n",
       "0  convertible          rwd           front        88.6  ...          130   \n",
       "1  convertible          rwd           front        88.6  ...          130   \n",
       "2    hatchback          rwd           front        94.5  ...          152   \n",
       "3        sedan          fwd           front        99.8  ...          109   \n",
       "4        sedan          4wd           front        99.4  ...          136   \n",
       "\n",
       "   fuel-system  bore  stroke compression-ratio horsepower  peak-rpm city-mpg  \\\n",
       "0         mpfi  3.47    2.68               9.0        111      5000       21   \n",
       "1         mpfi  3.47    2.68               9.0        111      5000       21   \n",
       "2         mpfi  2.68    3.47               9.0        154      5000       19   \n",
       "3         mpfi  3.19     3.4              10.0        102      5500       24   \n",
       "4         mpfi  3.19     3.4               8.0        115      5500       18   \n",
       "\n",
       "  highway-mpg  price  \n",
       "0          27  13495  \n",
       "1          27  16500  \n",
       "2          26  16500  \n",
       "3          30  13950  \n",
       "4          22  17450  \n",
       "\n",
       "[5 rows x 26 columns]"
      ]
     },
     "execution_count": 5,
     "metadata": {},
     "output_type": "execute_result"
    }
   ],
   "source": [
    "data.head()"
   ]
  },
  {
   "cell_type": "code",
   "execution_count": 6,
   "id": "d57bc0c1-8c7b-49d6-82e8-1614f2002a7d",
   "metadata": {},
   "outputs": [
    {
     "data": {
      "text/plain": [
       "symboling             0\n",
       "normalized-losses    41\n",
       "make                  0\n",
       "fuel-type             0\n",
       "aspiration            0\n",
       "num-of-doors          2\n",
       "body-style            0\n",
       "drive-wheels          0\n",
       "engine-location       0\n",
       "wheel-base            0\n",
       "length                0\n",
       "width                 0\n",
       "height                0\n",
       "curb-weight           0\n",
       "engine-type           0\n",
       "num-of-cylinders      0\n",
       "engine-size           0\n",
       "fuel-system           0\n",
       "bore                  4\n",
       "stroke                4\n",
       "compression-ratio     0\n",
       "horsepower            2\n",
       "peak-rpm              2\n",
       "city-mpg              0\n",
       "highway-mpg           0\n",
       "price                 4\n",
       "dtype: int64"
      ]
     },
     "execution_count": 6,
     "metadata": {},
     "output_type": "execute_result"
    }
   ],
   "source": [
    "data.isna().sum()"
   ]
  },
  {
   "cell_type": "code",
   "execution_count": 7,
   "id": "841ca658-8153-46d0-a485-06b67eae999f",
   "metadata": {},
   "outputs": [
    {
     "data": {
      "text/plain": [
       "four    114\n",
       "two      89\n",
       "Name: num-of-doors, dtype: int64"
      ]
     },
     "execution_count": 7,
     "metadata": {},
     "output_type": "execute_result"
    }
   ],
   "source": [
    "data['num-of-doors'].value_counts()"
   ]
  },
  {
   "cell_type": "code",
   "execution_count": 8,
   "id": "311bfb5b-f792-4eb0-aca7-df8f1b4044d9",
   "metadata": {},
   "outputs": [
    {
     "data": {
      "text/plain": [
       "symboling             0\n",
       "normalized-losses    41\n",
       "make                  0\n",
       "fuel-type             0\n",
       "aspiration            0\n",
       "num-of-doors          0\n",
       "body-style            0\n",
       "drive-wheels          0\n",
       "engine-location       0\n",
       "wheel-base            0\n",
       "length                0\n",
       "width                 0\n",
       "height                0\n",
       "curb-weight           0\n",
       "engine-type           0\n",
       "num-of-cylinders      0\n",
       "engine-size           0\n",
       "fuel-system           0\n",
       "bore                  4\n",
       "stroke                4\n",
       "compression-ratio     0\n",
       "horsepower            0\n",
       "peak-rpm              0\n",
       "city-mpg              0\n",
       "highway-mpg           0\n",
       "price                 4\n",
       "dtype: int64"
      ]
     },
     "execution_count": 8,
     "metadata": {},
     "output_type": "execute_result"
    }
   ],
   "source": [
    "data['num-of-doors'].replace(np.nan,'four',inplace=True)\n",
    "data['peak-rpm'].fillna(pd.to_numeric(data['peak-rpm']).mean(),inplace=True)\n",
    "data['horsepower'].fillna(pd.to_numeric(data['horsepower']).mean(),inplace=True)\n",
    "data.isna().sum()"
   ]
  },
  {
   "cell_type": "code",
   "execution_count": 9,
   "id": "613afecf-6b05-488e-beb9-6c33028ae5b9",
   "metadata": {},
   "outputs": [],
   "source": [
    "mazda_bore=data[data['make']=='mazda']\n",
    "mazda_bore_median=mazda_bore.loc[:,'bore'].median()\n",
    "mazda_stroke=data[data['make']=='mazda']\n",
    "mazda_stroke_median=mazda_stroke.loc[:,'stroke'].median()\n",
    "for i  in range(len(data)):\n",
    "    if data.loc[i,'make']=='mazda':\n",
    "        if str(data.loc[i,'stroke'])=='nan':\n",
    "            data.loc[i,'stroke']=mazda_stroke_median\n",
    "        if str(data.loc[i,'bore'])=='nan':\n",
    "            data.loc[i,'bore']=mazda_bore_median\n",
    "data.loc[:,'stroke']=pd.to_numeric(data.loc[:,'stroke'])\n",
    "data.loc[:,'bore']=pd.to_numeric(data.loc[:,'bore'])\n"
   ]
  },
  {
   "cell_type": "code",
   "execution_count": 10,
   "id": "e5c760b9-54e7-4825-9964-fe68d8a05d6d",
   "metadata": {},
   "outputs": [
    {
     "data": {
      "text/plain": [
       "symboling             0\n",
       "normalized-losses    41\n",
       "make                  0\n",
       "fuel-type             0\n",
       "aspiration            0\n",
       "num-of-doors          0\n",
       "body-style            0\n",
       "drive-wheels          0\n",
       "engine-location       0\n",
       "wheel-base            0\n",
       "length                0\n",
       "width                 0\n",
       "height                0\n",
       "curb-weight           0\n",
       "engine-type           0\n",
       "num-of-cylinders      0\n",
       "engine-size           0\n",
       "fuel-system           0\n",
       "bore                  0\n",
       "stroke                0\n",
       "compression-ratio     0\n",
       "horsepower            0\n",
       "peak-rpm              0\n",
       "city-mpg              0\n",
       "highway-mpg           0\n",
       "price                 4\n",
       "dtype: int64"
      ]
     },
     "execution_count": 10,
     "metadata": {},
     "output_type": "execute_result"
    }
   ],
   "source": [
    "data.isna().sum()"
   ]
  },
  {
   "cell_type": "code",
   "execution_count": 11,
   "id": "0de60c6a-73f1-47bd-923b-f644b1dc6948",
   "metadata": {},
   "outputs": [],
   "source": [
    "index_list=[]\n",
    "\n",
    "for i in range(len(data)):\n",
    "    if str(data['normalized-losses'][i])=='nan':\n",
    "        index_list.append(i)\n",
    "\n",
    "normalized_mis_values=data.iloc[index_list,:]\n",
    "brands=normalized_mis_values['make'].unique()\n",
    "brand_normalized={}\n",
    "for brand in brands:\n",
    "    \n",
    "    values=data[data['make']==brand].loc[:,'normalized-losses']\n",
    "    brand_normalized[brand]=values.median()\n",
    "for i in range(len(data)):\n",
    "    if data.loc[i,'make'] in brand_normalized.keys():\n",
    "        if str(data.loc[i,'normalized-losses'])=='nan':\n",
    "            data.loc[i,'normalized-losses']=brand_normalized[data.loc[i,'make']]\n",
    "data['normalized-losses'].fillna(pd.to_numeric(data['normalized-losses']).mean(),inplace=True)"
   ]
  },
  {
   "cell_type": "code",
   "execution_count": 12,
   "id": "bfbf680f-a854-4ae6-98e5-54dbfc8e0950",
   "metadata": {},
   "outputs": [
    {
     "data": {
      "text/plain": [
       "symboling            0\n",
       "normalized-losses    0\n",
       "make                 0\n",
       "fuel-type            0\n",
       "aspiration           0\n",
       "num-of-doors         0\n",
       "body-style           0\n",
       "drive-wheels         0\n",
       "engine-location      0\n",
       "wheel-base           0\n",
       "length               0\n",
       "width                0\n",
       "height               0\n",
       "curb-weight          0\n",
       "engine-type          0\n",
       "num-of-cylinders     0\n",
       "engine-size          0\n",
       "fuel-system          0\n",
       "bore                 0\n",
       "stroke               0\n",
       "compression-ratio    0\n",
       "horsepower           0\n",
       "peak-rpm             0\n",
       "city-mpg             0\n",
       "highway-mpg          0\n",
       "price                4\n",
       "dtype: int64"
      ]
     },
     "execution_count": 12,
     "metadata": {},
     "output_type": "execute_result"
    }
   ],
   "source": [
    "data.isna().sum()"
   ]
  },
  {
   "cell_type": "code",
   "execution_count": 13,
   "id": "17aef9b5-dc81-4f9a-9c39-e50bfe1506d4",
   "metadata": {},
   "outputs": [
    {
     "data": {
      "text/plain": [
       "symboling            0\n",
       "normalized-losses    0\n",
       "make                 0\n",
       "fuel-type            0\n",
       "aspiration           0\n",
       "num-of-doors         0\n",
       "body-style           0\n",
       "drive-wheels         0\n",
       "engine-location      0\n",
       "wheel-base           0\n",
       "length               0\n",
       "width                0\n",
       "height               0\n",
       "curb-weight          0\n",
       "engine-type          0\n",
       "num-of-cylinders     0\n",
       "engine-size          0\n",
       "fuel-system          0\n",
       "bore                 0\n",
       "stroke               0\n",
       "compression-ratio    0\n",
       "horsepower           0\n",
       "peak-rpm             0\n",
       "city-mpg             0\n",
       "highway-mpg          0\n",
       "price                0\n",
       "dtype: int64"
      ]
     },
     "execution_count": 13,
     "metadata": {},
     "output_type": "execute_result"
    }
   ],
   "source": [
    "data.dropna(inplace=True)\n",
    "data.isna().sum()"
   ]
  },
  {
   "cell_type": "code",
   "execution_count": 14,
   "id": "31cab91d-564c-4eb6-89cc-389e2b4b3732",
   "metadata": {},
   "outputs": [
    {
     "name": "stdout",
     "output_type": "stream",
     "text": [
      "<class 'pandas.core.frame.DataFrame'>\n",
      "Int64Index: 201 entries, 0 to 204\n",
      "Data columns (total 26 columns):\n",
      " #   Column             Non-Null Count  Dtype  \n",
      "---  ------             --------------  -----  \n",
      " 0   symboling          201 non-null    int64  \n",
      " 1   normalized-losses  201 non-null    object \n",
      " 2   make               201 non-null    object \n",
      " 3   fuel-type          201 non-null    object \n",
      " 4   aspiration         201 non-null    object \n",
      " 5   num-of-doors       201 non-null    object \n",
      " 6   body-style         201 non-null    object \n",
      " 7   drive-wheels       201 non-null    object \n",
      " 8   engine-location    201 non-null    object \n",
      " 9   wheel-base         201 non-null    float64\n",
      " 10  length             201 non-null    float64\n",
      " 11  width              201 non-null    float64\n",
      " 12  height             201 non-null    float64\n",
      " 13  curb-weight        201 non-null    int64  \n",
      " 14  engine-type        201 non-null    object \n",
      " 15  num-of-cylinders   201 non-null    object \n",
      " 16  engine-size        201 non-null    int64  \n",
      " 17  fuel-system        201 non-null    object \n",
      " 18  bore               201 non-null    float64\n",
      " 19  stroke             201 non-null    float64\n",
      " 20  compression-ratio  201 non-null    float64\n",
      " 21  horsepower         201 non-null    object \n",
      " 22  peak-rpm           201 non-null    object \n",
      " 23  city-mpg           201 non-null    int64  \n",
      " 24  highway-mpg        201 non-null    int64  \n",
      " 25  price              201 non-null    object \n",
      "dtypes: float64(7), int64(5), object(14)\n",
      "memory usage: 42.4+ KB\n"
     ]
    }
   ],
   "source": [
    "data.info()"
   ]
  },
  {
   "cell_type": "code",
   "execution_count": 15,
   "id": "ff3052c8-124d-4478-9cc6-637018a4ccf2",
   "metadata": {},
   "outputs": [
    {
     "name": "stdout",
     "output_type": "stream",
     "text": [
      "<class 'pandas.core.frame.DataFrame'>\n",
      "Int64Index: 201 entries, 0 to 204\n",
      "Columns: 136 entries, symboling to fuel-system_spfi\n",
      "dtypes: float64(9), int64(6), uint8(121)\n",
      "memory usage: 48.9 KB\n"
     ]
    }
   ],
   "source": [
    "data['price']=pd.to_numeric(data['price'])\n",
    "data['horsepower']=pd.to_numeric(data['horsepower'])\n",
    "data['peak-rpm']=pd.to_numeric(data['peak-rpm'])\n",
    "data=pd.get_dummies(data)\n",
    "data.info()"
   ]
  },
  {
   "cell_type": "markdown",
   "id": "a295e1ee-7cb0-4860-b3ff-009bbdf7c57d",
   "metadata": {
    "jp-MarkdownHeadingCollapsed": true,
    "tags": []
   },
   "source": [
    "## Linear Regression From Scratch"
   ]
  },
  {
   "cell_type": "code",
   "execution_count": 50,
   "id": "4d417f2f-e501-4858-b54b-8399bbc8f708",
   "metadata": {},
   "outputs": [],
   "source": [
    "y=data['price'].values\n",
    "X=data.drop('price',axis=1)\n",
    "sc = StandardScaler()\n",
    "X = sc.fit_transform(X)\n",
    "X_train, X_test, y_train, y_test = train_test_split(X, y, test_size = 0.2)"
   ]
  },
  {
   "cell_type": "code",
   "execution_count": 51,
   "id": "602efcaa-dd0d-427e-bad3-34ceacd95bd8",
   "metadata": {},
   "outputs": [],
   "source": [
    "def cost_function(X, y, a, b):\n",
    "    cost = np.sum((((X.dot(a) + b) - y) ** 2) / (len(y)))\n",
    "    return cost"
   ]
  },
  {
   "cell_type": "code",
   "execution_count": 52,
   "id": "3a30f353-9153-49f1-a779-da6361c2ce0e",
   "metadata": {},
   "outputs": [],
   "source": [
    "def gradient_descent_function(X, y, a, b, alpha, epochs):\n",
    "    m = len(y)\n",
    "    costs = [0] * epochs\n",
    "    \n",
    "    for epoch in range(epochs):\n",
    "        # Calculate the value -- Forward Propagation\n",
    "        z = X.dot(a) + b\n",
    "        \n",
    "        # Calculate the losses\n",
    "        loss = z - y\n",
    "        \n",
    "        # Calculate gradient descent\n",
    "        a_gradient = X.T.dot(loss) / m\n",
    "        b_gradient = np.sum(loss) / m\n",
    "        \n",
    "        # Update weights and bias\n",
    "        a = a - alpha*a_gradient\n",
    "        b = b - alpha*b_gradient\n",
    "        \n",
    "        # Store current lost\n",
    "        cost = cost_function(X, y, a, b)\n",
    "        costs[epoch] = cost\n",
    "        \n",
    "    return a, b, costs"
   ]
  },
  {
   "cell_type": "code",
   "execution_count": 57,
   "id": "1dc3c6cc-1d81-43ad-98b1-3e4073815bca",
   "metadata": {},
   "outputs": [],
   "source": [
    "a = np.random.randn(X_train.shape[1])\n",
    "b = 0\n",
    "a, b,costs = gradient_descent_function(X_train, y_train, a, b,alpha=0.15, epochs=25000)"
   ]
  },
  {
   "cell_type": "code",
   "execution_count": 58,
   "id": "a0a7df0a-3a1b-42a5-8c1a-0c618010cf27",
   "metadata": {},
   "outputs": [
    {
     "name": "stdout",
     "output_type": "stream",
     "text": [
      "[-2824.07726036  -285.35820742 -1791.22322059  2748.71457256\n",
      " -2455.460867    5378.32366775  7558.28964878 -2772.53089277\n",
      "  -849.08416054  3580.22550884  -773.38661913   260.17023997\n",
      "  -330.48308966   609.25237515  -565.45935696  -386.32309623\n",
      "    54.84924015   163.66260161  -413.54282853  -237.37536072\n",
      "  -171.53575793  -314.02162409    13.48712204   429.73734774\n",
      "   697.66230624  -214.16124845   667.93188553   197.28901293\n",
      "  -227.58638958  -461.60967901  -112.92161254 -1133.1895497\n",
      "   935.49079304   416.2108563    -87.89797309   316.54786105\n",
      " -1327.73917661   720.71356554   138.63393618    29.55756835\n",
      "  -487.59515961  -350.64508911 -1341.61488674  -138.30018811\n",
      "  -763.06894371  -499.0652978    738.68565655  -291.11413175\n",
      "    66.9484089    566.53594909    71.99311328   -88.90173529\n",
      "   543.27202934  -515.60139302   -83.98128857   -22.94188744\n",
      "   515.1521095  -1603.97754184  -667.63013945 -1368.24801909\n",
      "   172.37545773  -247.82829533   600.00613725   434.90398005\n",
      "   462.49646686   765.51975306   857.83245422   899.73690936\n",
      "    20.1970389    393.58843187  -710.13550045   209.84056276\n",
      "    86.63663682   646.98903832   647.92745652   448.64601352\n",
      "  -884.61720063   660.83650112   746.78315483  -866.35573714\n",
      " -1090.36813981  -420.93479757   237.33696958  -819.3768806\n",
      "   749.28996042  -453.51148873   -97.5667197   -413.58166731\n",
      "  1683.77865821  -374.19922053  -797.48800282   332.14187298\n",
      "   104.35525048  1621.69856349  -433.93264347   213.32231961\n",
      "   583.67282149 -1534.35413161 -1408.57396873  1409.03706358\n",
      "  -574.89059219   574.83259471  -898.83844404   897.71647942\n",
      "   937.17141172   257.63596972  -242.97050163   -68.30693255\n",
      "  -187.91405372  -345.1534215   -665.39294774   816.77922719\n",
      "  -430.42934411   430.07950174   246.51360522  -145.93749347\n",
      "  -256.34728305  -192.25573319   206.25287496   654.83711307\n",
      "  -717.7044246   -274.81311313  1088.30124062 -1127.96743267\n",
      "   719.71596392  -937.65532407   655.00013133   431.96868143\n",
      "   279.33115426    17.54350557 -1407.52322647   464.82154876\n",
      "   323.97158055   104.48364865  -347.08325005] \n",
      " 13257.085494907984\n"
     ]
    }
   ],
   "source": [
    "print(a,'\\n',b)"
   ]
  },
  {
   "cell_type": "code",
   "execution_count": 35,
   "id": "49720c4a-de13-4c3d-825b-485738f17e2d",
   "metadata": {},
   "outputs": [
    {
     "name": "stdout",
     "output_type": "stream",
     "text": [
      "0.13835731831862375\n"
     ]
    }
   ],
   "source": [
    "def linear(X,a,b):\n",
    "    y=X.dot(a)+b\n",
    "    return y\n",
    "def prediction(X_test,a,b):\n",
    "    y_pred=linear(X_test,a,b)\n",
    "    return y_pred\n",
    "def r2score(y_pred, y):\n",
    "    rss = np.sum((y_pred - y) ** 2)\n",
    "    tss = np.sum((y-y.mean()) ** 2)\n",
    "    \n",
    "    r2 = 1 - (rss / tss)\n",
    "    return r2\n",
    "y_pred=prediction(X_test,a,b)\n",
    "r2=r2score(y_pred,y_test)\n",
    "print(r2)"
   ]
  },
  {
   "cell_type": "markdown",
   "id": "7f828a3f-96b1-4889-a8cf-3ddc35c38de1",
   "metadata": {
    "jp-MarkdownHeadingCollapsed": true,
    "tags": []
   },
   "source": [
    "## Linear Regression by sklearn"
   ]
  },
  {
   "cell_type": "code",
   "execution_count": 59,
   "id": "6f65a858-34e6-477c-bd08-eb313d47dc38",
   "metadata": {},
   "outputs": [],
   "source": [
    "model=LinearRegression()\n",
    "model.fit(X_train,y_train)\n",
    "y_pred=model.predict(X_test)"
   ]
  },
  {
   "cell_type": "code",
   "execution_count": 60,
   "id": "dd51cf48-b9e1-4f9f-9601-9c34970c7c3d",
   "metadata": {},
   "outputs": [
    {
     "name": "stdout",
     "output_type": "stream",
     "text": [
      "MAE :  892165622378602.5\n",
      "MSE :  7.986034639238404e+30\n",
      "r2-score :  -0.08805296323388134\n"
     ]
    }
   ],
   "source": [
    "from sklearn.metrics import mean_absolute_error,mean_squared_error,r2_score\n",
    "print(\"MAE : \",mean_absolute_error(y_pred,y_test))\n",
    "print(\"MSE : \",mean_squared_error(y_pred,y_test))\n",
    "print(\"r2-score : \",r2_score(y_pred,y_test))"
   ]
  },
  {
   "cell_type": "code",
   "execution_count": 61,
   "id": "95931e67-508c-4a03-8fae-c2eb7ebb9e2c",
   "metadata": {},
   "outputs": [
    {
     "data": {
      "text/plain": [
       "(array([-2.81963172e+03, -2.20096995e+02, -1.59719171e+03,  2.63227429e+03,\n",
       "        -2.49015553e+03,  5.25098454e+03,  7.65760533e+03, -2.91917012e+03,\n",
       "        -8.21855889e+02,  3.73022833e+03, -7.36682076e+02,  2.66039744e+02,\n",
       "        -3.70078430e+02,  6.57910226e+02,  1.96937204e+14, -1.08155719e+15,\n",
       "         3.90909188e+14, -2.91743591e+14, -4.76247572e+14,  6.96547854e+13,\n",
       "         3.51043420e+15,  3.39395431e+14,  4.76327549e+14, -2.15291912e+15,\n",
       "        -1.51612046e+15,  3.39395431e+14,  4.35939084e+14,  4.35939084e+14,\n",
       "        -5.00210402e+14,  3.90909188e+14,  1.96937204e+14,  2.77814114e+14,\n",
       "        -2.91743591e+14, -2.91743591e+14, -3.56412569e+14, -4.10509202e+14,\n",
       "        -9.92181152e+14, -2.21859304e+14,  3.90909188e+14,  3.39395431e+14,\n",
       "         4.76327549e+14, -2.91743591e+14,  4.76327549e+14,  3.39395431e+14,\n",
       "        -6.27583135e+14,  3.51043420e+15, -4.10509202e+14, -5.38901848e+14,\n",
       "         2.77814114e+14,  1.20040883e+14,  2.77814114e+14,  6.36628259e+14,\n",
       "         2.77814114e+14,  4.35939084e+14,  1.70032950e+13, -1.07748724e+15,\n",
       "        -1.07748724e+15,  2.77814114e+14,  2.77814114e+14,  1.96937204e+14,\n",
       "         1.96937204e+14,  4.35939084e+14,  4.35939084e+14,  1.96937204e+14,\n",
       "         1.96937204e+14,  2.77814114e+14,  3.39395431e+14,  4.35939084e+14,\n",
       "         2.77814114e+14,  2.77814114e+14,  1.96937204e+14,  5.47187814e+14,\n",
       "        -2.04210980e+15,  4.35939084e+14,  4.35939084e+14,  1.96937204e+14,\n",
       "         1.83944999e+14, -6.32742294e+14,  1.94255520e+15, -4.50844895e+14,\n",
       "         4.17810476e+14, -9.14501737e+14,  1.50569254e+14, -4.40001966e+15,\n",
       "         5.62135261e+14,  2.67882584e+15,  1.06735714e+14, -9.14501737e+14,\n",
       "        -1.06168512e+15, -1.83510385e+15, -3.50017331e+14, -1.62115945e+14,\n",
       "         1.50569254e+14,  3.43795657e+14, -1.01932339e+15, -1.36035506e+15,\n",
       "        -8.80958518e+14, -8.45681981e+14, -8.35651618e+14, -2.38266221e+15,\n",
       "        -3.12585565e+14, -3.12585565e+14, -2.24991174e+15, -2.24991174e+15,\n",
       "        -5.87484068e+12, -6.74880393e+12, -1.63336573e+13, -1.72249900e+13,\n",
       "        -1.13927745e+13, -4.61761543e+14, -1.16298513e+15, -1.14237849e+15,\n",
       "         2.43476610e+14,  2.35488820e+15,  6.01519521e+14,  1.63221385e+15,\n",
       "         1.13816759e+15,  8.20624430e+14,  6.24422870e+14,  6.70166866e+14,\n",
       "         1.89379602e+14,  1.53472388e+15,  2.91870184e+15,  2.28878934e+15,\n",
       "         6.09349662e+14,  1.45734688e+01,  6.70166866e+14,  5.28967390e+14,\n",
       "         1.08344290e+15,  2.81999916e+14, -8.50849031e+14, -2.53165943e+15,\n",
       "         1.15867842e+15,  4.80980672e+14,  1.63632948e+14]),\n",
       " -163983580179494.22)"
      ]
     },
     "execution_count": 61,
     "metadata": {},
     "output_type": "execute_result"
    }
   ],
   "source": [
    "model.coef_,model.intercept_"
   ]
  },
  {
   "cell_type": "code",
   "execution_count": null,
   "id": "72c3108f-f131-4185-a91f-0a09338c66c0",
   "metadata": {},
   "outputs": [],
   "source": []
  }
 ],
 "metadata": {
  "kernelspec": {
   "display_name": "Python 3 (ipykernel)",
   "language": "python",
   "name": "python3"
  },
  "language_info": {
   "codemirror_mode": {
    "name": "ipython",
    "version": 3
   },
   "file_extension": ".py",
   "mimetype": "text/x-python",
   "name": "python",
   "nbconvert_exporter": "python",
   "pygments_lexer": "ipython3",
   "version": "3.9.12"
  }
 },
 "nbformat": 4,
 "nbformat_minor": 5
}
